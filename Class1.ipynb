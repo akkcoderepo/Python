{
 "cells": [
  {
   "cell_type": "code",
   "execution_count": 62,
   "id": "e31e4646",
   "metadata": {},
   "outputs": [],
   "source": [
    "a = 1\n",
    "A=2\n",
    "B=2.2\n",
    "C='See'\n",
    "D=\"Sea\"\n",
    "E=2+1j\n",
    "F=True"
   ]
  },
  {
   "cell_type": "code",
   "execution_count": 63,
   "id": "52be6b44",
   "metadata": {},
   "outputs": [
    {
     "name": "stdout",
     "output_type": "stream",
     "text": [
      "1 <class 'int'>\n",
      "2 <class 'int'>\n",
      "2.2 <class 'float'>\n",
      "See <class 'str'>\n",
      "Sea <class 'str'>\n",
      "(2+1j) <class 'complex'>\n",
      "True <class 'bool'>\n"
     ]
    }
   ],
   "source": [
    "print(a,type(a))\n",
    "print(A,type(A))\n",
    "print(B,type(B))\n",
    "print(C,type(C))\n",
    "print(D,type(D))\n",
    "print(E,type(E))\n",
    "print(F,type(F))"
   ]
  },
  {
   "cell_type": "code",
   "execution_count": 64,
   "id": "bc17e6a0",
   "metadata": {},
   "outputs": [
    {
     "name": "stdout",
     "output_type": "stream",
     "text": [
      "3\n"
     ]
    }
   ],
   "source": [
    "print(a+A)"
   ]
  },
  {
   "cell_type": "code",
   "execution_count": 65,
   "id": "3fdc7ffa",
   "metadata": {},
   "outputs": [],
   "source": [
    "a,A,B,C,D,E,F = 1,2,2.2,'Sea',\"Sea\",2+1j,True"
   ]
  },
  {
   "cell_type": "code",
   "execution_count": 66,
   "id": "bed5cdaa",
   "metadata": {},
   "outputs": [
    {
     "name": "stdout",
     "output_type": "stream",
     "text": [
      "1 <class 'int'>\n",
      "2 <class 'int'>\n",
      "2.2 <class 'float'>\n",
      "Sea <class 'str'>\n",
      "Sea <class 'str'>\n",
      "(2+1j) <class 'complex'>\n",
      "True <class 'bool'>\n"
     ]
    }
   ],
   "source": [
    "print(a,type(a))\n",
    "print(A,type(A))\n",
    "print(B,type(B))\n",
    "print(C,type(C))\n",
    "print(D,type(D))\n",
    "print(E,type(E))\n",
    "print(F,type(F))"
   ]
  },
  {
   "cell_type": "code",
   "execution_count": 70,
   "id": "8cf2c547",
   "metadata": {},
   "outputs": [
    {
     "name": "stdout",
     "output_type": "stream",
     "text": [
      "1.0\n"
     ]
    }
   ],
   "source": [
    "print(E.imag)"
   ]
  },
  {
   "cell_type": "code",
   "execution_count": 75,
   "id": "3266a576",
   "metadata": {},
   "outputs": [
    {
     "name": "stdout",
     "output_type": "stream",
     "text": [
      "1 Sea\n"
     ]
    }
   ],
   "source": [
    "print(str(a) + \" \" + C)"
   ]
  },
  {
   "cell_type": "code",
   "execution_count": 76,
   "id": "40df4ac1",
   "metadata": {},
   "outputs": [
    {
     "name": "stdout",
     "output_type": "stream",
     "text": [
      "2\n"
     ]
    }
   ],
   "source": [
    "print(True + True)"
   ]
  },
  {
   "cell_type": "code",
   "execution_count": 77,
   "id": "b8ad1ad1",
   "metadata": {},
   "outputs": [
    {
     "name": "stdout",
     "output_type": "stream",
     "text": [
      "True\n"
     ]
    }
   ],
   "source": [
    "print(True)"
   ]
  },
  {
   "cell_type": "code",
   "execution_count": null,
   "id": "5b72a746",
   "metadata": {},
   "outputs": [],
   "source": [
    "--True = 1 and False=0"
   ]
  },
  {
   "cell_type": "code",
   "execution_count": 78,
   "id": "f3c89f66",
   "metadata": {},
   "outputs": [
    {
     "name": "stdout",
     "output_type": "stream",
     "text": [
      "ergergergre\n"
     ]
    },
    {
     "data": {
      "text/plain": [
       "'ergergergre'"
      ]
     },
     "execution_count": 78,
     "metadata": {},
     "output_type": "execute_result"
    }
   ],
   "source": [
    "input()"
   ]
  },
  {
   "cell_type": "code",
   "execution_count": 83,
   "id": "a28f054a",
   "metadata": {},
   "outputs": [
    {
     "name": "stdout",
     "output_type": "stream",
     "text": [
      "11\n"
     ]
    }
   ],
   "source": [
    "a=input()"
   ]
  },
  {
   "cell_type": "code",
   "execution_count": 84,
   "id": "9ff4d11a",
   "metadata": {},
   "outputs": [
    {
     "name": "stdout",
     "output_type": "stream",
     "text": [
      "11\n"
     ]
    }
   ],
   "source": [
    "print(a)"
   ]
  },
  {
   "cell_type": "code",
   "execution_count": 85,
   "id": "b0afce17",
   "metadata": {},
   "outputs": [
    {
     "data": {
      "text/plain": [
       "str"
      ]
     },
     "execution_count": 85,
     "metadata": {},
     "output_type": "execute_result"
    }
   ],
   "source": [
    "type(a)"
   ]
  },
  {
   "cell_type": "code",
   "execution_count": 86,
   "id": "4fd43e95",
   "metadata": {},
   "outputs": [
    {
     "name": "stdout",
     "output_type": "stream",
     "text": [
      "12\n"
     ]
    }
   ],
   "source": [
    "a=int(input())"
   ]
  },
  {
   "cell_type": "code",
   "execution_count": 87,
   "id": "603dd9b6",
   "metadata": {},
   "outputs": [
    {
     "data": {
      "text/plain": [
       "int"
      ]
     },
     "execution_count": 87,
     "metadata": {},
     "output_type": "execute_result"
    }
   ],
   "source": [
    "type(a)"
   ]
  }
 ],
 "metadata": {
  "kernelspec": {
   "display_name": "Python 3 (ipykernel)",
   "language": "python",
   "name": "python3"
  },
  "language_info": {
   "codemirror_mode": {
    "name": "ipython",
    "version": 3
   },
   "file_extension": ".py",
   "mimetype": "text/x-python",
   "name": "python",
   "nbconvert_exporter": "python",
   "pygments_lexer": "ipython3",
   "version": "3.9.12"
  }
 },
 "nbformat": 4,
 "nbformat_minor": 5
}
