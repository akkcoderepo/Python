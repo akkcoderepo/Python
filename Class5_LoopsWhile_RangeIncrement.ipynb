{
 "cells": [
  {
   "cell_type": "code",
   "execution_count": null,
   "id": "08f13c65",
   "metadata": {},
   "outputs": [],
   "source": [
    "# while loop - use when we do not know how many times we have to execute...\n",
    "# We need to increment manually"
   ]
  },
  {
   "cell_type": "code",
   "execution_count": 1,
   "id": "41234930",
   "metadata": {},
   "outputs": [
    {
     "name": "stdout",
     "output_type": "stream",
     "text": [
      "1\n",
      "2\n",
      "3\n",
      "4\n",
      "5\n"
     ]
    }
   ],
   "source": [
    "a = 1\n",
    "while a <= 5:\n",
    "    print(a)\n",
    "    a = a + 1"
   ]
  },
  {
   "cell_type": "code",
   "execution_count": 4,
   "id": "d03ea5e4",
   "metadata": {},
   "outputs": [
    {
     "name": "stdout",
     "output_type": "stream",
     "text": [
      "1\n",
      "2\n",
      "3\n",
      "4\n"
     ]
    }
   ],
   "source": [
    "a = 1\n",
    "while a < 5:\n",
    "    print(a)\n",
    "    a = a + 1"
   ]
  },
  {
   "cell_type": "code",
   "execution_count": 6,
   "id": "4c0ef302",
   "metadata": {},
   "outputs": [
    {
     "name": "stdout",
     "output_type": "stream",
     "text": [
      "1\n",
      "2\n"
     ]
    }
   ],
   "source": [
    "a = 1\n",
    "while a < 5:\n",
    "    print(a)\n",
    "    if a == 2:\n",
    "        break\n",
    "    a = a + 1"
   ]
  },
  {
   "cell_type": "code",
   "execution_count": 10,
   "id": "9c50aaef",
   "metadata": {},
   "outputs": [
    {
     "name": "stdout",
     "output_type": "stream",
     "text": [
      "1\n",
      "2\n",
      "3\n",
      "4\n"
     ]
    }
   ],
   "source": [
    "a = 1\n",
    "while a < 5:\n",
    "    print(a)\n",
    "    a = a + 1\n",
    "    if a == 2:\n",
    "        continue\n",
    "        print('test')"
   ]
  },
  {
   "cell_type": "code",
   "execution_count": 28,
   "id": "8fff2f31",
   "metadata": {},
   "outputs": [
    {
     "name": "stdout",
     "output_type": "stream",
     "text": [
      " * \r\n",
      " *  * \r\n",
      " *  *  * \r\n",
      " *  *  *  * \r\n",
      " *  *  *  *  * \r\n"
     ]
    }
   ],
   "source": [
    "# print \n",
    "# *\n",
    "# * *\n",
    "# * * *\n",
    "# * * * *\n",
    "# * * * * *\n",
    "a = 1\n",
    "for i in range(0,5):\n",
    "    for j in range(0,i+1):\n",
    "#       print(' * ') - by default, end = next line\n",
    "        print(' * ',sep='   ',end='') # stays in the same line\n",
    "    print('\\r') # > New line without gap, carriage return\n",
    "#   print('\\n') > New line with gap\n",
    "#   print('')"
   ]
  },
  {
   "cell_type": "code",
   "execution_count": 40,
   "id": "d0068ab8",
   "metadata": {},
   "outputs": [
    {
     "name": "stdout",
     "output_type": "stream",
     "text": [
      "8\n",
      "17\n",
      "2\n",
      "4\n",
      "1\n"
     ]
    }
   ],
   "source": [
    "# print the below tuple in reverse direction\n",
    "t = (1,4,2,17,8)\n",
    "for i in range(len(t)-1,-1,-1):\n",
    "    print(t[i])"
   ]
  },
  {
   "cell_type": "code",
   "execution_count": 48,
   "id": "aea37904",
   "metadata": {},
   "outputs": [],
   "source": [
    "d = {'a':'aaa','b':111,11:200,'L':[1,2,3],'t':(9,8),'d':{3,2}}"
   ]
  },
  {
   "cell_type": "code",
   "execution_count": 50,
   "id": "bcea8a73",
   "metadata": {},
   "outputs": [
    {
     "name": "stdout",
     "output_type": "stream",
     "text": [
      "Keys a  Values  aaa\n",
      "Keys b  Values  111\n",
      "Keys 11  Values  200\n",
      "Keys L  Values  [1, 2, 3]\n",
      "Keys t  Values  (9, 8)\n",
      "Keys d  Values  {2, 3}\n"
     ]
    }
   ],
   "source": [
    "for i in d:\n",
    "    print('Keys',i,' Values ',d[i])"
   ]
  },
  {
   "cell_type": "code",
   "execution_count": 52,
   "id": "b61987ed",
   "metadata": {},
   "outputs": [
    {
     "name": "stdout",
     "output_type": "stream",
     "text": [
      "('a', 'aaa')\n",
      "('b', 111)\n",
      "(11, 200)\n",
      "('L', [1, 2, 3])\n",
      "('t', (9, 8))\n",
      "('d', {2, 3})\n"
     ]
    }
   ],
   "source": [
    "for i in d.items():\n",
    "    print(i)"
   ]
  },
  {
   "cell_type": "code",
   "execution_count": 58,
   "id": "4307b9e1",
   "metadata": {},
   "outputs": [],
   "source": [
    "s = {12,3,1,6,9,1,9,11}"
   ]
  },
  {
   "cell_type": "code",
   "execution_count": 59,
   "id": "cbd766a1",
   "metadata": {},
   "outputs": [
    {
     "data": {
      "text/plain": [
       "{1, 3, 6, 9, 11, 12}"
      ]
     },
     "execution_count": 59,
     "metadata": {},
     "output_type": "execute_result"
    }
   ],
   "source": [
    "s"
   ]
  },
  {
   "cell_type": "code",
   "execution_count": 61,
   "id": "db2faa12",
   "metadata": {},
   "outputs": [
    {
     "name": "stdout",
     "output_type": "stream",
     "text": [
      "1\n",
      "3\n",
      "6\n",
      "9\n",
      "11\n",
      "12\n"
     ]
    }
   ],
   "source": [
    "for i in s:\n",
    "    print(i)"
   ]
  },
  {
   "cell_type": "code",
   "execution_count": null,
   "id": "4640e145",
   "metadata": {},
   "outputs": [],
   "source": []
  }
 ],
 "metadata": {
  "kernelspec": {
   "display_name": "Python 3 (ipykernel)",
   "language": "python",
   "name": "python3"
  },
  "language_info": {
   "codemirror_mode": {
    "name": "ipython",
    "version": 3
   },
   "file_extension": ".py",
   "mimetype": "text/x-python",
   "name": "python",
   "nbconvert_exporter": "python",
   "pygments_lexer": "ipython3",
   "version": "3.9.12"
  }
 },
 "nbformat": 4,
 "nbformat_minor": 5
}
