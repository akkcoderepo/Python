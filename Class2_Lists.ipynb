{
 "cells": [
  {
   "cell_type": "code",
   "execution_count": 1,
   "id": "b008f092",
   "metadata": {},
   "outputs": [],
   "source": [
    "l = ['Kumar', 'Akula', 111, 1+5j, True, 11.77]"
   ]
  },
  {
   "cell_type": "code",
   "execution_count": 2,
   "id": "f3d58f81",
   "metadata": {},
   "outputs": [
    {
     "data": {
      "text/plain": [
       "['Kumar', 'Akula', 111, (1+5j), True, 11.77]"
      ]
     },
     "execution_count": 2,
     "metadata": {},
     "output_type": "execute_result"
    }
   ],
   "source": [
    "l"
   ]
  },
  {
   "cell_type": "code",
   "execution_count": 3,
   "id": "feed20df",
   "metadata": {},
   "outputs": [
    {
     "data": {
      "text/plain": [
       "list"
      ]
     },
     "execution_count": 3,
     "metadata": {},
     "output_type": "execute_result"
    }
   ],
   "source": [
    "type(l)"
   ]
  },
  {
   "cell_type": "code",
   "execution_count": 4,
   "id": "0fb9b5d4",
   "metadata": {},
   "outputs": [
    {
     "data": {
      "text/plain": [
       "'Kumar'"
      ]
     },
     "execution_count": 4,
     "metadata": {},
     "output_type": "execute_result"
    }
   ],
   "source": [
    "l[0]"
   ]
  },
  {
   "cell_type": "code",
   "execution_count": 5,
   "id": "bdfe264b",
   "metadata": {},
   "outputs": [
    {
     "data": {
      "text/plain": [
       "[11.77, True, (1+5j), 111, 'Akula', 'Kumar']"
      ]
     },
     "execution_count": 5,
     "metadata": {},
     "output_type": "execute_result"
    }
   ],
   "source": [
    "l[::-1]"
   ]
  },
  {
   "cell_type": "code",
   "execution_count": 6,
   "id": "a9e66807",
   "metadata": {},
   "outputs": [
    {
     "data": {
      "text/plain": [
       "float"
      ]
     },
     "execution_count": 6,
     "metadata": {},
     "output_type": "execute_result"
    }
   ],
   "source": [
    "type(l[5])"
   ]
  },
  {
   "cell_type": "code",
   "execution_count": 7,
   "id": "050afaa6",
   "metadata": {},
   "outputs": [
    {
     "data": {
      "text/plain": [
       "11.77"
      ]
     },
     "execution_count": 7,
     "metadata": {},
     "output_type": "execute_result"
    }
   ],
   "source": [
    "l[-1]"
   ]
  },
  {
   "cell_type": "code",
   "execution_count": 8,
   "id": "eae3c9e8",
   "metadata": {},
   "outputs": [
    {
     "data": {
      "text/plain": [
       "(1+5j)"
      ]
     },
     "execution_count": 8,
     "metadata": {},
     "output_type": "execute_result"
    }
   ],
   "source": [
    "l[3]"
   ]
  },
  {
   "cell_type": "code",
   "execution_count": 20,
   "id": "cb1e9e88",
   "metadata": {},
   "outputs": [
    {
     "data": {
      "text/plain": [
       "1.0"
      ]
     },
     "execution_count": 20,
     "metadata": {},
     "output_type": "execute_result"
    }
   ],
   "source": [
    "l[3].real"
   ]
  },
  {
   "cell_type": "code",
   "execution_count": 13,
   "id": "da77fe60",
   "metadata": {},
   "outputs": [
    {
     "data": {
      "text/plain": [
       "'AKULA'"
      ]
     },
     "execution_count": 13,
     "metadata": {},
     "output_type": "execute_result"
    }
   ],
   "source": [
    "l[1].upper()"
   ]
  },
  {
   "cell_type": "code",
   "execution_count": 19,
   "id": "a3ac4bd6",
   "metadata": {},
   "outputs": [
    {
     "data": {
      "text/plain": [
       "'K'"
      ]
     },
     "execution_count": 19,
     "metadata": {},
     "output_type": "execute_result"
    }
   ],
   "source": [
    "l[0][0]"
   ]
  },
  {
   "cell_type": "code",
   "execution_count": 9,
   "id": "904285cf",
   "metadata": {},
   "outputs": [
    {
     "data": {
      "text/plain": [
       "['akk', 'gmail', 111, 'kumar', 'yahoo', 222]"
      ]
     },
     "execution_count": 9,
     "metadata": {},
     "output_type": "execute_result"
    }
   ],
   "source": [
    "l1 = ['akk', 'gmail', 111]\n",
    "l2 = ['kumar','yahoo',222]\n",
    "l1+l2"
   ]
  },
  {
   "cell_type": "code",
   "execution_count": 23,
   "id": "b2dafa8f",
   "metadata": {},
   "outputs": [
    {
     "ename": "TypeError",
     "evalue": "can only concatenate list (not \"str\") to list",
     "output_type": "error",
     "traceback": [
      "\u001b[1;31m---------------------------------------------------------------------------\u001b[0m",
      "\u001b[1;31mTypeError\u001b[0m                                 Traceback (most recent call last)",
      "Input \u001b[1;32mIn [23]\u001b[0m, in \u001b[0;36m<cell line: 1>\u001b[1;34m()\u001b[0m\n\u001b[1;32m----> 1\u001b[0m \u001b[43ml1\u001b[49m\u001b[43m \u001b[49m\u001b[38;5;241;43m+\u001b[39;49m\u001b[43m \u001b[49m\u001b[38;5;124;43m'\u001b[39;49m\u001b[38;5;124;43mtest\u001b[39;49m\u001b[38;5;124;43m'\u001b[39;49m\n",
      "\u001b[1;31mTypeError\u001b[0m: can only concatenate list (not \"str\") to list"
     ]
    }
   ],
   "source": [
    "l1 + 'test'\n",
    "# List is added with string, hence error"
   ]
  },
  {
   "cell_type": "code",
   "execution_count": 24,
   "id": "70d2eba1",
   "metadata": {},
   "outputs": [
    {
     "data": {
      "text/plain": [
       "['akk', 'gmail', 111, 'test']"
      ]
     },
     "execution_count": 24,
     "metadata": {},
     "output_type": "execute_result"
    }
   ],
   "source": [
    "l1 + ['test']\n",
    "# List with list, works"
   ]
  },
  {
   "cell_type": "code",
   "execution_count": 25,
   "id": "564ca006",
   "metadata": {},
   "outputs": [
    {
     "data": {
      "text/plain": [
       "['kumar', 'yahoo', 222]"
      ]
     },
     "execution_count": 25,
     "metadata": {},
     "output_type": "execute_result"
    }
   ],
   "source": [
    "l2"
   ]
  },
  {
   "cell_type": "code",
   "execution_count": 26,
   "id": "c6a6e144",
   "metadata": {},
   "outputs": [
    {
     "data": {
      "text/plain": [
       "['kumar', 'yahoo', 222, 'kumar', 'yahoo', 222]"
      ]
     },
     "execution_count": 26,
     "metadata": {},
     "output_type": "execute_result"
    }
   ],
   "source": [
    "l2*2"
   ]
  },
  {
   "cell_type": "code",
   "execution_count": 27,
   "id": "b8a8d0fb",
   "metadata": {},
   "outputs": [
    {
     "data": {
      "text/plain": [
       "['kumar', 'yahoo', 222]"
      ]
     },
     "execution_count": 27,
     "metadata": {},
     "output_type": "execute_result"
    }
   ],
   "source": [
    "l2"
   ]
  },
  {
   "cell_type": "code",
   "execution_count": 29,
   "id": "8f26821c",
   "metadata": {},
   "outputs": [],
   "source": [
    "# Replace kumar with India\n",
    "l2[0] = 'India'"
   ]
  },
  {
   "cell_type": "code",
   "execution_count": 30,
   "id": "70d192bb",
   "metadata": {},
   "outputs": [
    {
     "data": {
      "text/plain": [
       "['India', 'yahoo', 222]"
      ]
     },
     "execution_count": 30,
     "metadata": {},
     "output_type": "execute_result"
    }
   ],
   "source": [
    "l2"
   ]
  },
  {
   "cell_type": "code",
   "execution_count": 31,
   "id": "1fe947ea",
   "metadata": {},
   "outputs": [],
   "source": [
    "l2[0]=1111"
   ]
  },
  {
   "cell_type": "code",
   "execution_count": 32,
   "id": "ff41e0b5",
   "metadata": {},
   "outputs": [
    {
     "data": {
      "text/plain": [
       "[1111, 'yahoo', 222]"
      ]
     },
     "execution_count": 32,
     "metadata": {},
     "output_type": "execute_result"
    }
   ],
   "source": [
    "l2"
   ]
  },
  {
   "cell_type": "code",
   "execution_count": 36,
   "id": "1bdd5e19",
   "metadata": {},
   "outputs": [
    {
     "data": {
      "text/plain": [
       "'h'"
      ]
     },
     "execution_count": 36,
     "metadata": {},
     "output_type": "execute_result"
    }
   ],
   "source": [
    "# Extract h in yahoo\n",
    "l2[1][2]"
   ]
  },
  {
   "cell_type": "code",
   "execution_count": 35,
   "id": "231a9587",
   "metadata": {},
   "outputs": [
    {
     "ename": "TypeError",
     "evalue": "'str' object does not support item assignment",
     "output_type": "error",
     "traceback": [
      "\u001b[1;31m---------------------------------------------------------------------------\u001b[0m",
      "\u001b[1;31mTypeError\u001b[0m                                 Traceback (most recent call last)",
      "Input \u001b[1;32mIn [35]\u001b[0m, in \u001b[0;36m<cell line: 2>\u001b[1;34m()\u001b[0m\n\u001b[0;32m      1\u001b[0m \u001b[38;5;66;03m# Replace h in yahoo with d\u001b[39;00m\n\u001b[1;32m----> 2\u001b[0m l2[\u001b[38;5;241m1\u001b[39m][\u001b[38;5;241m2\u001b[39m] \u001b[38;5;241m=\u001b[39m \u001b[38;5;124m'\u001b[39m\u001b[38;5;124md\u001b[39m\u001b[38;5;124m'\u001b[39m\n",
      "\u001b[1;31mTypeError\u001b[0m: 'str' object does not support item assignment"
     ]
    }
   ],
   "source": [
    "# Replace h in yahoo with d\n",
    "l2[1][2] = 'd'"
   ]
  },
  {
   "cell_type": "code",
   "execution_count": 37,
   "id": "c607f5c9",
   "metadata": {},
   "outputs": [],
   "source": [
    "# String is immutable whereas List is mutable. i.e. we cannot alter the value in a string, but we can alter the elements in a list"
   ]
  },
  {
   "cell_type": "code",
   "execution_count": 2,
   "id": "34306cf1",
   "metadata": {},
   "outputs": [
    {
     "ename": "NameError",
     "evalue": "name 'h' is not defined",
     "output_type": "error",
     "traceback": [
      "\u001b[1;31m---------------------------------------------------------------------------\u001b[0m",
      "\u001b[1;31mNameError\u001b[0m                                 Traceback (most recent call last)",
      "Input \u001b[1;32mIn [2]\u001b[0m, in \u001b[0;36m<cell line: 2>\u001b[1;34m()\u001b[0m\n\u001b[0;32m      1\u001b[0m name \u001b[38;5;241m=\u001b[39m \u001b[38;5;124m'\u001b[39m\u001b[38;5;124myahoo\u001b[39m\u001b[38;5;124m'\u001b[39m\n\u001b[1;32m----> 2\u001b[0m name[\u001b[43mh\u001b[49m] \u001b[38;5;241m=\u001b[39m \u001b[38;5;124m'\u001b[39m\u001b[38;5;124md\u001b[39m\u001b[38;5;124m'\u001b[39m\n",
      "\u001b[1;31mNameError\u001b[0m: name 'h' is not defined"
     ]
    }
   ],
   "source": [
    "name = 'yahoo'\n",
    "name[h] = 'd'"
   ]
  },
  {
   "cell_type": "code",
   "execution_count": 3,
   "id": "760c3dbc",
   "metadata": {},
   "outputs": [
    {
     "data": {
      "text/plain": [
       "'yadoo'"
      ]
     },
     "execution_count": 3,
     "metadata": {},
     "output_type": "execute_result"
    }
   ],
   "source": [
    "name.replace('h','d')\n",
    "# replace also doesnt actually replace the original variable, it just retuns the required result. Creates a new location in new spaceabs"
   ]
  },
  {
   "cell_type": "code",
   "execution_count": 4,
   "id": "7ab5240a",
   "metadata": {},
   "outputs": [
    {
     "data": {
      "text/plain": [
       "'yahoo'"
      ]
     },
     "execution_count": 4,
     "metadata": {},
     "output_type": "execute_result"
    }
   ],
   "source": [
    "name"
   ]
  },
  {
   "cell_type": "code",
   "execution_count": 5,
   "id": "ce9550eb",
   "metadata": {},
   "outputs": [],
   "source": [
    "rname = name.replace('h','d')"
   ]
  },
  {
   "cell_type": "code",
   "execution_count": 6,
   "id": "7f703f2a",
   "metadata": {},
   "outputs": [
    {
     "name": "stdout",
     "output_type": "stream",
     "text": [
      "Name : yahoo RName : yadoo\n"
     ]
    }
   ],
   "source": [
    "print('Name : ' + name + ' RName : ' + rname)"
   ]
  },
  {
   "cell_type": "code",
   "execution_count": 7,
   "id": "11765d93",
   "metadata": {},
   "outputs": [
    {
     "data": {
      "text/plain": [
       "'yahdd'"
      ]
     },
     "execution_count": 7,
     "metadata": {},
     "output_type": "execute_result"
    }
   ],
   "source": [
    "name.replace('o','d')"
   ]
  },
  {
   "cell_type": "code",
   "execution_count": 8,
   "id": "bc06be39",
   "metadata": {},
   "outputs": [
    {
     "ename": "NameError",
     "evalue": "name 'l1' is not defined",
     "output_type": "error",
     "traceback": [
      "\u001b[1;31m---------------------------------------------------------------------------\u001b[0m",
      "\u001b[1;31mNameError\u001b[0m                                 Traceback (most recent call last)",
      "Input \u001b[1;32mIn [8]\u001b[0m, in \u001b[0;36m<cell line: 1>\u001b[1;34m()\u001b[0m\n\u001b[1;32m----> 1\u001b[0m \u001b[43ml1\u001b[49m\n",
      "\u001b[1;31mNameError\u001b[0m: name 'l1' is not defined"
     ]
    }
   ],
   "source": [
    "l1"
   ]
  },
  {
   "cell_type": "code",
   "execution_count": 22,
   "id": "30f5285f",
   "metadata": {},
   "outputs": [
    {
     "name": "stdout",
     "output_type": "stream",
     "text": [
      "['akk', 'gmail', 111]\n",
      "['kumar', 'yahoo', 222]\n"
     ]
    }
   ],
   "source": [
    "print(l1)\n",
    "print(l2)"
   ]
  },
  {
   "cell_type": "code",
   "execution_count": 23,
   "id": "e2233e21",
   "metadata": {},
   "outputs": [
    {
     "data": {
      "text/plain": [
       "3"
      ]
     },
     "execution_count": 23,
     "metadata": {},
     "output_type": "execute_result"
    }
   ],
   "source": [
    "len(l1)"
   ]
  },
  {
   "cell_type": "code",
   "execution_count": 25,
   "id": "7de1bb31",
   "metadata": {},
   "outputs": [
    {
     "data": {
      "text/plain": [
       "True"
      ]
     },
     "execution_count": 25,
     "metadata": {},
     "output_type": "execute_result"
    }
   ],
   "source": [
    "'gmail' in l1"
   ]
  },
  {
   "cell_type": "code",
   "execution_count": 28,
   "id": "425e0e36",
   "metadata": {},
   "outputs": [
    {
     "data": {
      "text/plain": [
       "True"
      ]
     },
     "execution_count": 28,
     "metadata": {},
     "output_type": "execute_result"
    }
   ],
   "source": [
    "111 in l1"
   ]
  },
  {
   "cell_type": "code",
   "execution_count": 26,
   "id": "fa035ad4",
   "metadata": {},
   "outputs": [
    {
     "data": {
      "text/plain": [
       "False"
      ]
     },
     "execution_count": 26,
     "metadata": {},
     "output_type": "execute_result"
    }
   ],
   "source": [
    "'yah' in l1"
   ]
  },
  {
   "cell_type": "code",
   "execution_count": 29,
   "id": "bef84200",
   "metadata": {},
   "outputs": [
    {
     "data": {
      "text/plain": [
       "False"
      ]
     },
     "execution_count": 29,
     "metadata": {},
     "output_type": "execute_result"
    }
   ],
   "source": [
    "1 in l1"
   ]
  },
  {
   "cell_type": "code",
   "execution_count": 27,
   "id": "8ae7d2fe",
   "metadata": {},
   "outputs": [
    {
     "name": "stdout",
     "output_type": "stream",
     "text": [
      "akk\n",
      "gmail\n",
      "111\n"
     ]
    }
   ],
   "source": [
    "for i in l1:\n",
    "    print(i)"
   ]
  },
  {
   "cell_type": "code",
   "execution_count": 31,
   "id": "8182d3f6",
   "metadata": {},
   "outputs": [
    {
     "data": {
      "text/plain": [
       "['akk', 'gmail', 111]"
      ]
     },
     "execution_count": 31,
     "metadata": {},
     "output_type": "execute_result"
    }
   ],
   "source": [
    "l1"
   ]
  },
  {
   "cell_type": "code",
   "execution_count": 36,
   "id": "eeea627f",
   "metadata": {},
   "outputs": [
    {
     "data": {
      "text/plain": [
       "[111]"
      ]
     },
     "execution_count": 36,
     "metadata": {},
     "output_type": "execute_result"
    }
   ],
   "source": [
    "l1[-1:3]"
   ]
  },
  {
   "cell_type": "code",
   "execution_count": 35,
   "id": "99b19c93",
   "metadata": {},
   "outputs": [
    {
     "data": {
      "text/plain": [
       "[]"
      ]
     },
     "execution_count": 35,
     "metadata": {},
     "output_type": "execute_result"
    }
   ],
   "source": [
    "l1[-1:2]"
   ]
  },
  {
   "cell_type": "code",
   "execution_count": 37,
   "id": "0dcaf3a0",
   "metadata": {},
   "outputs": [
    {
     "data": {
      "text/plain": [
       "[]"
      ]
     },
     "execution_count": 37,
     "metadata": {},
     "output_type": "execute_result"
    }
   ],
   "source": [
    "l1[-1:2:-1]"
   ]
  },
  {
   "cell_type": "code",
   "execution_count": 38,
   "id": "eec8eda4",
   "metadata": {},
   "outputs": [
    {
     "data": {
      "text/plain": [
       "[111]"
      ]
     },
     "execution_count": 38,
     "metadata": {},
     "output_type": "execute_result"
    }
   ],
   "source": [
    "l1[-1:1:-1]"
   ]
  },
  {
   "cell_type": "code",
   "execution_count": 52,
   "id": "7ebc3863",
   "metadata": {},
   "outputs": [],
   "source": [
    "l1 = ['akk', 'gmail', 111, 'email']"
   ]
  },
  {
   "cell_type": "code",
   "execution_count": 53,
   "id": "d166d93f",
   "metadata": {},
   "outputs": [],
   "source": [
    "l1.append('email')\n",
    "# append always adds an emlement at last"
   ]
  },
  {
   "cell_type": "code",
   "execution_count": 54,
   "id": "a866bc44",
   "metadata": {},
   "outputs": [
    {
     "data": {
      "text/plain": [
       "['akk', 'gmail', 111, 'email', 'email']"
      ]
     },
     "execution_count": 54,
     "metadata": {},
     "output_type": "execute_result"
    }
   ],
   "source": [
    "l1"
   ]
  },
  {
   "cell_type": "code",
   "execution_count": 55,
   "id": "7cd1a6dc",
   "metadata": {},
   "outputs": [],
   "source": [
    "l1.insert(1,'email')\n",
    "# insert is used to insert an element at any position"
   ]
  },
  {
   "cell_type": "code",
   "execution_count": 56,
   "id": "d6c45584",
   "metadata": {},
   "outputs": [
    {
     "data": {
      "text/plain": [
       "['akk', 'email', 'gmail', 111, 'email', 'email']"
      ]
     },
     "execution_count": 56,
     "metadata": {},
     "output_type": "execute_result"
    }
   ],
   "source": [
    "l1"
   ]
  },
  {
   "cell_type": "code",
   "execution_count": 57,
   "id": "cf3c43a4",
   "metadata": {},
   "outputs": [],
   "source": [
    "l1.insert(2,['tttt',1111,'lulu'])"
   ]
  },
  {
   "cell_type": "code",
   "execution_count": 58,
   "id": "7c72efec",
   "metadata": {},
   "outputs": [
    {
     "data": {
      "text/plain": [
       "['akk', 'email', ['tttt', 1111, 'lulu'], 'gmail', 111, 'email', 'email']"
      ]
     },
     "execution_count": 58,
     "metadata": {},
     "output_type": "execute_result"
    }
   ],
   "source": [
    "l1"
   ]
  },
  {
   "cell_type": "code",
   "execution_count": 47,
   "id": "1a62508b",
   "metadata": {},
   "outputs": [],
   "source": [
    "l1 = ['akk', 'gmail', 111, 'email']"
   ]
  },
  {
   "cell_type": "code",
   "execution_count": 48,
   "id": "5127a6ba",
   "metadata": {},
   "outputs": [
    {
     "data": {
      "text/plain": [
       "111"
      ]
     },
     "execution_count": 48,
     "metadata": {},
     "output_type": "execute_result"
    }
   ],
   "source": [
    "l1.pop(2)\n",
    "# To remove an element from the list"
   ]
  },
  {
   "cell_type": "code",
   "execution_count": 49,
   "id": "3ba16b23",
   "metadata": {},
   "outputs": [
    {
     "data": {
      "text/plain": [
       "['akk', 'gmail', 'email']"
      ]
     },
     "execution_count": 49,
     "metadata": {},
     "output_type": "execute_result"
    }
   ],
   "source": [
    "l1"
   ]
  },
  {
   "cell_type": "code",
   "execution_count": 50,
   "id": "f6a15627",
   "metadata": {},
   "outputs": [
    {
     "data": {
      "text/plain": [
       "'email'"
      ]
     },
     "execution_count": 50,
     "metadata": {},
     "output_type": "execute_result"
    }
   ],
   "source": [
    "l1.pop()"
   ]
  },
  {
   "cell_type": "code",
   "execution_count": 51,
   "id": "9273cd74",
   "metadata": {},
   "outputs": [
    {
     "data": {
      "text/plain": [
       "['akk', 'gmail']"
      ]
     },
     "execution_count": 51,
     "metadata": {},
     "output_type": "execute_result"
    }
   ],
   "source": [
    "l1"
   ]
  },
  {
   "cell_type": "code",
   "execution_count": 60,
   "id": "33dc6c3d",
   "metadata": {},
   "outputs": [
    {
     "data": {
      "text/plain": [
       "['kumar', 'yahoo', 222]"
      ]
     },
     "execution_count": 60,
     "metadata": {},
     "output_type": "execute_result"
    }
   ],
   "source": [
    "l2"
   ]
  },
  {
   "cell_type": "code",
   "execution_count": 61,
   "id": "4b4e1dc2",
   "metadata": {},
   "outputs": [
    {
     "data": {
      "text/plain": [
       "[222, 'yahoo', 'kumar']"
      ]
     },
     "execution_count": 61,
     "metadata": {},
     "output_type": "execute_result"
    }
   ],
   "source": [
    "l2[::-1]"
   ]
  },
  {
   "cell_type": "code",
   "execution_count": 62,
   "id": "efc229cc",
   "metadata": {},
   "outputs": [
    {
     "data": {
      "text/plain": [
       "['kumar', 'yahoo', 222]"
      ]
     },
     "execution_count": 62,
     "metadata": {},
     "output_type": "execute_result"
    }
   ],
   "source": [
    "l2"
   ]
  },
  {
   "cell_type": "code",
   "execution_count": 63,
   "id": "1e9239b6",
   "metadata": {},
   "outputs": [],
   "source": [
    "l2.reverse()\n",
    "# To reverse a list and store in the same variable"
   ]
  },
  {
   "cell_type": "code",
   "execution_count": 64,
   "id": "a3cc1ab0",
   "metadata": {},
   "outputs": [
    {
     "data": {
      "text/plain": [
       "[222, 'yahoo', 'kumar']"
      ]
     },
     "execution_count": 64,
     "metadata": {},
     "output_type": "execute_result"
    }
   ],
   "source": [
    "l2"
   ]
  },
  {
   "cell_type": "code",
   "execution_count": 68,
   "id": "cb40b37f",
   "metadata": {},
   "outputs": [
    {
     "data": {
      "text/plain": [
       "['akk', 'email', ['tttt', 1111, 'lulu'], 'gmail', 111, 'email', 'email']"
      ]
     },
     "execution_count": 68,
     "metadata": {},
     "output_type": "execute_result"
    }
   ],
   "source": [
    "l1\n",
    "# Access 111 from 2nd index list"
   ]
  },
  {
   "cell_type": "code",
   "execution_count": 69,
   "id": "a31e8ecb",
   "metadata": {},
   "outputs": [
    {
     "data": {
      "text/plain": [
       "['tttt', 1111, 'lulu']"
      ]
     },
     "execution_count": 69,
     "metadata": {},
     "output_type": "execute_result"
    }
   ],
   "source": [
    "l1[2]"
   ]
  },
  {
   "cell_type": "code",
   "execution_count": 71,
   "id": "b6b3b592",
   "metadata": {},
   "outputs": [
    {
     "data": {
      "text/plain": [
       "1111"
      ]
     },
     "execution_count": 71,
     "metadata": {},
     "output_type": "execute_result"
    }
   ],
   "source": [
    "l1[2][1]"
   ]
  },
  {
   "cell_type": "code",
   "execution_count": 79,
   "id": "3bf4f648",
   "metadata": {},
   "outputs": [
    {
     "data": {
      "text/plain": [
       "True"
      ]
     },
     "execution_count": 79,
     "metadata": {},
     "output_type": "execute_result"
    }
   ],
   "source": [
    "'email' in l1"
   ]
  },
  {
   "cell_type": "code",
   "execution_count": 80,
   "id": "e22d0bcf",
   "metadata": {},
   "outputs": [
    {
     "data": {
      "text/plain": [
       "True"
      ]
     },
     "execution_count": 80,
     "metadata": {},
     "output_type": "execute_result"
    }
   ],
   "source": [
    "111 in l1"
   ]
  },
  {
   "cell_type": "code",
   "execution_count": 81,
   "id": "97101cf9",
   "metadata": {},
   "outputs": [
    {
     "data": {
      "text/plain": [
       "False"
      ]
     },
     "execution_count": 81,
     "metadata": {},
     "output_type": "execute_result"
    }
   ],
   "source": [
    "1111 in l1"
   ]
  },
  {
   "cell_type": "code",
   "execution_count": 95,
   "id": "dfc8ed09",
   "metadata": {},
   "outputs": [
    {
     "name": "stdout",
     "output_type": "stream",
     "text": [
      "akk\n",
      "email\n",
      "['tttt', 1111, 'lulu']\n",
      "gmail\n",
      "111\n",
      "email\n",
      "email\n"
     ]
    }
   ],
   "source": [
    "for i in l1:\n",
    "    print(i)"
   ]
  },
  {
   "cell_type": "code",
   "execution_count": 96,
   "id": "7f08e634",
   "metadata": {},
   "outputs": [
    {
     "data": {
      "text/plain": [
       "['akk', 'email', ['tttt', 1111, 'lulu'], 'gmail', 111, 'email', 'email']"
      ]
     },
     "execution_count": 96,
     "metadata": {},
     "output_type": "execute_result"
    }
   ],
   "source": [
    "l1"
   ]
  },
  {
   "cell_type": "code",
   "execution_count": 97,
   "id": "c44d3ceb",
   "metadata": {},
   "outputs": [
    {
     "data": {
      "text/plain": [
       "3"
      ]
     },
     "execution_count": 97,
     "metadata": {},
     "output_type": "execute_result"
    }
   ],
   "source": [
    "l1.count('email')"
   ]
  },
  {
   "cell_type": "code",
   "execution_count": 98,
   "id": "7294ed76",
   "metadata": {},
   "outputs": [
    {
     "data": {
      "text/plain": [
       "0"
      ]
     },
     "execution_count": 98,
     "metadata": {},
     "output_type": "execute_result"
    }
   ],
   "source": [
    "l1.count('tttt')"
   ]
  },
  {
   "cell_type": "code",
   "execution_count": 99,
   "id": "a0713112",
   "metadata": {},
   "outputs": [],
   "source": [
    "l1.append('cog')"
   ]
  },
  {
   "cell_type": "code",
   "execution_count": 100,
   "id": "b81af84d",
   "metadata": {},
   "outputs": [
    {
     "data": {
      "text/plain": [
       "['akk', 'email', ['tttt', 1111, 'lulu'], 'gmail', 111, 'email', 'email', 'cog']"
      ]
     },
     "execution_count": 100,
     "metadata": {},
     "output_type": "execute_result"
    }
   ],
   "source": [
    "l1"
   ]
  },
  {
   "cell_type": "code",
   "execution_count": 103,
   "id": "cf32f420",
   "metadata": {},
   "outputs": [],
   "source": [
    "l1.append(['eee',111,1.1])"
   ]
  },
  {
   "cell_type": "code",
   "execution_count": 104,
   "id": "51423a58",
   "metadata": {},
   "outputs": [
    {
     "data": {
      "text/plain": [
       "['akk',\n",
       " 'email',\n",
       " ['tttt', 1111, 'lulu'],\n",
       " 'gmail',\n",
       " 111,\n",
       " 'email',\n",
       " 'email',\n",
       " 'cog',\n",
       " ['eee', 111, 1.1]]"
      ]
     },
     "execution_count": 104,
     "metadata": {},
     "output_type": "execute_result"
    }
   ],
   "source": [
    "l1"
   ]
  },
  {
   "cell_type": "code",
   "execution_count": 106,
   "id": "ee6cd574",
   "metadata": {},
   "outputs": [],
   "source": [
    "l1.extend(['eae',112,1.12])"
   ]
  },
  {
   "cell_type": "code",
   "execution_count": 121,
   "id": "6c4ea892",
   "metadata": {},
   "outputs": [
    {
     "data": {
      "text/plain": [
       "['akk',\n",
       " 'email',\n",
       " ['tttt', 1111, 'lulu'],\n",
       " 'gmail',\n",
       " 111,\n",
       " 'email',\n",
       " 'email',\n",
       " 'cog',\n",
       " ['eee', 111, 1.1],\n",
       " 'eae',\n",
       " 112,\n",
       " 1.12]"
      ]
     },
     "execution_count": 121,
     "metadata": {},
     "output_type": "execute_result"
    }
   ],
   "source": [
    "l1"
   ]
  },
  {
   "cell_type": "code",
   "execution_count": 108,
   "id": "6555d339",
   "metadata": {},
   "outputs": [
    {
     "ename": "TypeError",
     "evalue": "list.extend() takes exactly one argument (3 given)",
     "output_type": "error",
     "traceback": [
      "\u001b[1;31m---------------------------------------------------------------------------\u001b[0m",
      "\u001b[1;31mTypeError\u001b[0m                                 Traceback (most recent call last)",
      "Input \u001b[1;32mIn [108]\u001b[0m, in \u001b[0;36m<cell line: 1>\u001b[1;34m()\u001b[0m\n\u001b[1;32m----> 1\u001b[0m \u001b[43ml1\u001b[49m\u001b[38;5;241;43m.\u001b[39;49m\u001b[43mextend\u001b[49m\u001b[43m(\u001b[49m\u001b[38;5;124;43m'\u001b[39;49m\u001b[38;5;124;43meae\u001b[39;49m\u001b[38;5;124;43m'\u001b[39;49m\u001b[43m,\u001b[49m\u001b[38;5;241;43m112\u001b[39;49m\u001b[43m,\u001b[49m\u001b[38;5;241;43m1.12\u001b[39;49m\u001b[43m)\u001b[49m\n",
      "\u001b[1;31mTypeError\u001b[0m: list.extend() takes exactly one argument (3 given)"
     ]
    }
   ],
   "source": [
    "l1.extend('eae',112,1.12)"
   ]
  },
  {
   "cell_type": "code",
   "execution_count": 122,
   "id": "21e6e46a",
   "metadata": {},
   "outputs": [
    {
     "ename": "TypeError",
     "evalue": "'int' object is not iterable",
     "output_type": "error",
     "traceback": [
      "\u001b[1;31m---------------------------------------------------------------------------\u001b[0m",
      "\u001b[1;31mTypeError\u001b[0m                                 Traceback (most recent call last)",
      "Input \u001b[1;32mIn [122]\u001b[0m, in \u001b[0;36m<cell line: 1>\u001b[1;34m()\u001b[0m\n\u001b[1;32m----> 1\u001b[0m \u001b[43ml1\u001b[49m\u001b[38;5;241;43m.\u001b[39;49m\u001b[43mextend\u001b[49m\u001b[43m(\u001b[49m\u001b[38;5;241;43m111\u001b[39;49m\u001b[43m)\u001b[49m\n",
      "\u001b[1;31mTypeError\u001b[0m: 'int' object is not iterable"
     ]
    }
   ],
   "source": [
    "l1.extend(111)"
   ]
  },
  {
   "cell_type": "code",
   "execution_count": 123,
   "id": "42460be3",
   "metadata": {},
   "outputs": [],
   "source": [
    "l1.extend('LlLl')"
   ]
  },
  {
   "cell_type": "code",
   "execution_count": 124,
   "id": "7709d0b4",
   "metadata": {},
   "outputs": [
    {
     "data": {
      "text/plain": [
       "['akk',\n",
       " 'email',\n",
       " ['tttt', 1111, 'lulu'],\n",
       " 'gmail',\n",
       " 111,\n",
       " 'email',\n",
       " 'email',\n",
       " 'cog',\n",
       " ['eee', 111, 1.1],\n",
       " 'eae',\n",
       " 112,\n",
       " 1.12,\n",
       " 'L',\n",
       " 'l',\n",
       " 'L',\n",
       " 'l']"
      ]
     },
     "execution_count": 124,
     "metadata": {},
     "output_type": "execute_result"
    }
   ],
   "source": [
    "l1"
   ]
  },
  {
   "cell_type": "code",
   "execution_count": 109,
   "id": "8cd3747a",
   "metadata": {},
   "outputs": [],
   "source": [
    "l1 = ['tttt', 1111, 'lulu']"
   ]
  },
  {
   "cell_type": "code",
   "execution_count": 110,
   "id": "1030cbc6",
   "metadata": {},
   "outputs": [
    {
     "data": {
      "text/plain": [
       "['tttt', 1111, 'lulu']"
      ]
     },
     "execution_count": 110,
     "metadata": {},
     "output_type": "execute_result"
    }
   ],
   "source": [
    "l1"
   ]
  },
  {
   "cell_type": "code",
   "execution_count": 111,
   "id": "e7ed1e6e",
   "metadata": {},
   "outputs": [],
   "source": [
    "l1.reverse()"
   ]
  },
  {
   "cell_type": "code",
   "execution_count": 112,
   "id": "cbf860f6",
   "metadata": {},
   "outputs": [
    {
     "data": {
      "text/plain": [
       "['lulu', 1111, 'tttt']"
      ]
     },
     "execution_count": 112,
     "metadata": {},
     "output_type": "execute_result"
    }
   ],
   "source": [
    "l1"
   ]
  },
  {
   "cell_type": "code",
   "execution_count": 113,
   "id": "8e2f17c4",
   "metadata": {},
   "outputs": [
    {
     "name": "stdout",
     "output_type": "stream",
     "text": [
      "None\n"
     ]
    }
   ],
   "source": [
    "print(l1.reverse())"
   ]
  },
  {
   "cell_type": "code",
   "execution_count": 117,
   "id": "09fc06b1",
   "metadata": {},
   "outputs": [
    {
     "data": {
      "text/plain": [
       "['c', 'r', 'e', 'a', 't', 'e', ' ', 'l', 'i', 's', 't']"
      ]
     },
     "execution_count": 117,
     "metadata": {},
     "output_type": "execute_result"
    }
   ],
   "source": [
    "l1 = 'create list'\n",
    "list(l1)"
   ]
  },
  {
   "cell_type": "code",
   "execution_count": 118,
   "id": "b2c44ae7",
   "metadata": {},
   "outputs": [
    {
     "data": {
      "text/plain": [
       "'create list'"
      ]
     },
     "execution_count": 118,
     "metadata": {},
     "output_type": "execute_result"
    }
   ],
   "source": [
    "l1"
   ]
  },
  {
   "cell_type": "code",
   "execution_count": null,
   "id": "ac8cd643",
   "metadata": {},
   "outputs": [],
   "source": [
    "l1"
   ]
  },
  {
   "cell_type": "code",
   "execution_count": 125,
   "id": "f0a999c9",
   "metadata": {},
   "outputs": [
    {
     "data": {
      "text/plain": [
       "[1, 2, 3, 11, 22, 'kk']"
      ]
     },
     "execution_count": 125,
     "metadata": {},
     "output_type": "execute_result"
    }
   ],
   "source": [
    "[1,2,3] + [11,22,'kk']"
   ]
  },
  {
   "cell_type": "code",
   "execution_count": 126,
   "id": "21b69111",
   "metadata": {},
   "outputs": [
    {
     "data": {
      "text/plain": [
       "['this', 'is', 'a', 'way', 'to', 'explain', 'split']"
      ]
     },
     "execution_count": 126,
     "metadata": {},
     "output_type": "execute_result"
    }
   ],
   "source": [
    "'this is a way to explain split'.split()\n",
    "# splits a string into a list."
   ]
  },
  {
   "cell_type": "code",
   "execution_count": 128,
   "id": "7208b9a9",
   "metadata": {},
   "outputs": [
    {
     "data": {
      "text/plain": [
       "['this is ', ' w', 'y to expl', 'in split']"
      ]
     },
     "execution_count": 128,
     "metadata": {},
     "output_type": "execute_result"
    }
   ],
   "source": [
    "'this is a way to explain split'.split('a')"
   ]
  },
  {
   "cell_type": "code",
   "execution_count": 129,
   "id": "726f6fd7",
   "metadata": {},
   "outputs": [
    {
     "data": {
      "text/plain": [
       "['this is a way to explain split']"
      ]
     },
     "execution_count": 129,
     "metadata": {},
     "output_type": "execute_result"
    }
   ],
   "source": [
    "'this is a way to explain split'.split('z')"
   ]
  },
  {
   "cell_type": "code",
   "execution_count": 130,
   "id": "70bd7869",
   "metadata": {},
   "outputs": [],
   "source": [
    "L = ['sudh', 'kumar', 1111, 1+2j, True, 123.1]"
   ]
  },
  {
   "cell_type": "code",
   "execution_count": 131,
   "id": "72b86a21",
   "metadata": {},
   "outputs": [
    {
     "data": {
      "text/plain": [
       "[123.1]"
      ]
     },
     "execution_count": 131,
     "metadata": {},
     "output_type": "execute_result"
    }
   ],
   "source": [
    "L[-1:6]"
   ]
  },
  {
   "cell_type": "code",
   "execution_count": 132,
   "id": "4acc74c6",
   "metadata": {},
   "outputs": [
    {
     "data": {
      "text/plain": [
       "[]"
      ]
     },
     "execution_count": 132,
     "metadata": {},
     "output_type": "execute_result"
    }
   ],
   "source": [
    "L[-1:2]"
   ]
  },
  {
   "cell_type": "code",
   "execution_count": null,
   "id": "c659375b",
   "metadata": {},
   "outputs": [],
   "source": []
  }
 ],
 "metadata": {
  "kernelspec": {
   "display_name": "Python 3 (ipykernel)",
   "language": "python",
   "name": "python3"
  },
  "language_info": {
   "codemirror_mode": {
    "name": "ipython",
    "version": 3
   },
   "file_extension": ".py",
   "mimetype": "text/x-python",
   "name": "python",
   "nbconvert_exporter": "python",
   "pygments_lexer": "ipython3",
   "version": "3.9.12"
  }
 },
 "nbformat": 4,
 "nbformat_minor": 5
}
