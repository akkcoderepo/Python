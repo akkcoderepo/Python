{
 "cells": [
  {
   "cell_type": "code",
   "execution_count": 1,
   "id": "e88f0656",
   "metadata": {},
   "outputs": [
    {
     "name": "stdout",
     "output_type": "stream",
     "text": [
      "Before removing duplicates \n",
      "[1, 1, 1, 2, 5, 6, 6, 7, 8, 9, 9]\n",
      "After removing duplicates \n",
      "[1, 2, 5, 6, 7, 8, 9]\n"
     ]
    }
   ],
   "source": [
    "# Remove duplicates from list l1\n",
    "l1 = [1,9,2,1,5,7,6,8,9,6,1]\n",
    "l1.sort()\n",
    "print('Before removing duplicates ')\n",
    "print(l1)\n",
    "l2 = []\n",
    "previous_item = ''\n",
    "for item in l1:\n",
    "    if item == previous_item:\n",
    "        continue\n",
    "    else:\n",
    "        l2.append(item)\n",
    "        previous_item = item\n",
    "print('After removing duplicates ')\n",
    "print(l2)"
   ]
  },
  {
   "cell_type": "code",
   "execution_count": 2,
   "id": "515e8cc4",
   "metadata": {},
   "outputs": [
    {
     "data": {
      "text/plain": [
       "{1, 2, 5, 6, 7, 8, 9}"
      ]
     },
     "execution_count": 2,
     "metadata": {},
     "output_type": "execute_result"
    }
   ],
   "source": [
    "l1 = [1,9,2,1,5,7,6,8,9,6,1]\n",
    "# Next easy method to remove duplicates, just use set function.\n",
    "set(l1)\n",
    "\n",
    "# set function builds an unordered collection of unique elements\n",
    "\n",
    "# Set is immutable.\n",
    "\n",
    "# We cannot substring(slice) like list or tuple\n",
    "\n",
    "# 'set' object is not subscriptable i.e. we cannot access individual items\n",
    "\n",
    "# This is for security purposes, hence we can only access full set otherwise we cannot changer or access individual elements\n",
    "\n",
    "# We cannot add a list to a set - as set is a collection of unique elements sorted for primitive datatypes i.e. integer, character, float, complex number, floating number, etc.\n",
    "\n",
    "# We cannot add a set to a set\n",
    "\n",
    "# We can add a tuple to a set\n",
    "\n",
    "# So we can say, any mutable data type cannot be added to a set"
   ]
  },
  {
   "cell_type": "code",
   "execution_count": 3,
   "id": "1d851dc9",
   "metadata": {},
   "outputs": [
    {
     "data": {
      "text/plain": [
       "[1, 9, 2, 1, 5, 7, 6, 8, 9, 6, 1]"
      ]
     },
     "execution_count": 3,
     "metadata": {},
     "output_type": "execute_result"
    }
   ],
   "source": [
    "l1"
   ]
  },
  {
   "cell_type": "code",
   "execution_count": 4,
   "id": "88ddb7b4",
   "metadata": {},
   "outputs": [],
   "source": [
    "l3 = set(l1)"
   ]
  },
  {
   "cell_type": "code",
   "execution_count": 5,
   "id": "cc190d51",
   "metadata": {},
   "outputs": [
    {
     "data": {
      "text/plain": [
       "{1, 2, 5, 6, 7, 8, 9}"
      ]
     },
     "execution_count": 5,
     "metadata": {},
     "output_type": "execute_result"
    }
   ],
   "source": [
    "l3"
   ]
  },
  {
   "cell_type": "code",
   "execution_count": 6,
   "id": "abfe31ef",
   "metadata": {},
   "outputs": [
    {
     "data": {
      "text/plain": [
       "set"
      ]
     },
     "execution_count": 6,
     "metadata": {},
     "output_type": "execute_result"
    }
   ],
   "source": [
    "type(l3)"
   ]
  },
  {
   "cell_type": "code",
   "execution_count": 7,
   "id": "017521da",
   "metadata": {},
   "outputs": [],
   "source": [
    "x = set(('apple', 'banana', 'cherry','cherry'))"
   ]
  },
  {
   "cell_type": "code",
   "execution_count": 8,
   "id": "de598e56",
   "metadata": {},
   "outputs": [
    {
     "data": {
      "text/plain": [
       "set"
      ]
     },
     "execution_count": 8,
     "metadata": {},
     "output_type": "execute_result"
    }
   ],
   "source": [
    "type(x)"
   ]
  },
  {
   "cell_type": "code",
   "execution_count": 9,
   "id": "ab33bf81",
   "metadata": {},
   "outputs": [
    {
     "data": {
      "text/plain": [
       "{'apple', 'banana', 'cherry'}"
      ]
     },
     "execution_count": 9,
     "metadata": {},
     "output_type": "execute_result"
    }
   ],
   "source": [
    "x"
   ]
  },
  {
   "cell_type": "code",
   "execution_count": 10,
   "id": "c376e692",
   "metadata": {},
   "outputs": [],
   "source": [
    "y = {'test','vest','test'}"
   ]
  },
  {
   "cell_type": "code",
   "execution_count": 11,
   "id": "fdb55ca4",
   "metadata": {},
   "outputs": [
    {
     "data": {
      "text/plain": [
       "{'test', 'vest'}"
      ]
     },
     "execution_count": 11,
     "metadata": {},
     "output_type": "execute_result"
    }
   ],
   "source": [
    "y"
   ]
  },
  {
   "cell_type": "code",
   "execution_count": 12,
   "id": "599776d1",
   "metadata": {},
   "outputs": [
    {
     "data": {
      "text/plain": [
       "set"
      ]
     },
     "execution_count": 12,
     "metadata": {},
     "output_type": "execute_result"
    }
   ],
   "source": [
    "type(y)"
   ]
  },
  {
   "cell_type": "code",
   "execution_count": 13,
   "id": "8b679626",
   "metadata": {},
   "outputs": [],
   "source": [
    "y = {'test'}"
   ]
  },
  {
   "cell_type": "code",
   "execution_count": 14,
   "id": "a4288207",
   "metadata": {},
   "outputs": [
    {
     "data": {
      "text/plain": [
       "set"
      ]
     },
     "execution_count": 14,
     "metadata": {},
     "output_type": "execute_result"
    }
   ],
   "source": [
    "type(y)"
   ]
  },
  {
   "cell_type": "code",
   "execution_count": 15,
   "id": "32a766e2",
   "metadata": {},
   "outputs": [],
   "source": [
    "z = {}"
   ]
  },
  {
   "cell_type": "code",
   "execution_count": 16,
   "id": "0cb203bd",
   "metadata": {},
   "outputs": [
    {
     "data": {
      "text/plain": [
       "dict"
      ]
     },
     "execution_count": 16,
     "metadata": {},
     "output_type": "execute_result"
    }
   ],
   "source": [
    "type(z)"
   ]
  },
  {
   "cell_type": "code",
   "execution_count": 17,
   "id": "414dd544",
   "metadata": {},
   "outputs": [
    {
     "ename": "TypeError",
     "evalue": "'set' object is not subscriptable",
     "output_type": "error",
     "traceback": [
      "\u001b[1;31m---------------------------------------------------------------------------\u001b[0m",
      "\u001b[1;31mTypeError\u001b[0m                                 Traceback (most recent call last)",
      "Input \u001b[1;32mIn [17]\u001b[0m, in \u001b[0;36m<cell line: 1>\u001b[1;34m()\u001b[0m\n\u001b[1;32m----> 1\u001b[0m \u001b[43my\u001b[49m\u001b[43m[\u001b[49m\u001b[38;5;241;43m0\u001b[39;49m\u001b[43m]\u001b[49m\n",
      "\u001b[1;31mTypeError\u001b[0m: 'set' object is not subscriptable"
     ]
    }
   ],
   "source": [
    "y[0]"
   ]
  },
  {
   "cell_type": "code",
   "execution_count": 20,
   "id": "cec05679",
   "metadata": {},
   "outputs": [],
   "source": [
    "l = list(y)"
   ]
  },
  {
   "cell_type": "code",
   "execution_count": 21,
   "id": "2432ff17",
   "metadata": {},
   "outputs": [
    {
     "data": {
      "text/plain": [
       "'test'"
      ]
     },
     "execution_count": 21,
     "metadata": {},
     "output_type": "execute_result"
    }
   ],
   "source": [
    "l[0]"
   ]
  },
  {
   "cell_type": "code",
   "execution_count": 23,
   "id": "dbab51ad",
   "metadata": {},
   "outputs": [
    {
     "data": {
      "text/plain": [
       "{'test'}"
      ]
     },
     "execution_count": 23,
     "metadata": {},
     "output_type": "execute_result"
    }
   ],
   "source": [
    "y"
   ]
  },
  {
   "cell_type": "code",
   "execution_count": 30,
   "id": "c7004978",
   "metadata": {},
   "outputs": [],
   "source": [
    "y.add('sss')"
   ]
  },
  {
   "cell_type": "code",
   "execution_count": 31,
   "id": "b8e044bf",
   "metadata": {},
   "outputs": [
    {
     "data": {
      "text/plain": [
       "{'sss', 'test'}"
      ]
     },
     "execution_count": 31,
     "metadata": {},
     "output_type": "execute_result"
    }
   ],
   "source": [
    "y"
   ]
  },
  {
   "cell_type": "code",
   "execution_count": 32,
   "id": "238402c5",
   "metadata": {},
   "outputs": [],
   "source": [
    "y.add('test')"
   ]
  },
  {
   "cell_type": "code",
   "execution_count": 33,
   "id": "84c27ba6",
   "metadata": {},
   "outputs": [
    {
     "data": {
      "text/plain": [
       "{'sss', 'test'}"
      ]
     },
     "execution_count": 33,
     "metadata": {},
     "output_type": "execute_result"
    }
   ],
   "source": [
    "y"
   ]
  },
  {
   "cell_type": "code",
   "execution_count": 34,
   "id": "6e628798",
   "metadata": {},
   "outputs": [],
   "source": [
    "y.add(1)"
   ]
  },
  {
   "cell_type": "code",
   "execution_count": 35,
   "id": "554e975c",
   "metadata": {},
   "outputs": [
    {
     "data": {
      "text/plain": [
       "{1, 'sss', 'test'}"
      ]
     },
     "execution_count": 35,
     "metadata": {},
     "output_type": "execute_result"
    }
   ],
   "source": [
    "y"
   ]
  },
  {
   "cell_type": "code",
   "execution_count": 37,
   "id": "82bf96ea",
   "metadata": {},
   "outputs": [
    {
     "ename": "TypeError",
     "evalue": "unhashable type: 'list'",
     "output_type": "error",
     "traceback": [
      "\u001b[1;31m---------------------------------------------------------------------------\u001b[0m",
      "\u001b[1;31mTypeError\u001b[0m                                 Traceback (most recent call last)",
      "Input \u001b[1;32mIn [37]\u001b[0m, in \u001b[0;36m<cell line: 1>\u001b[1;34m()\u001b[0m\n\u001b[1;32m----> 1\u001b[0m \u001b[43my\u001b[49m\u001b[38;5;241;43m.\u001b[39;49m\u001b[43madd\u001b[49m\u001b[43m(\u001b[49m\u001b[43m[\u001b[49m\u001b[38;5;241;43m1\u001b[39;49m\u001b[43m,\u001b[49m\u001b[38;5;124;43m'\u001b[39;49m\u001b[38;5;124;43mkk\u001b[39;49m\u001b[38;5;124;43m'\u001b[39;49m\u001b[43m]\u001b[49m\u001b[43m)\u001b[49m\n",
      "\u001b[1;31mTypeError\u001b[0m: unhashable type: 'list'"
     ]
    }
   ],
   "source": [
    "y.add([1,'kk'])"
   ]
  },
  {
   "cell_type": "code",
   "execution_count": 38,
   "id": "d9e8c909",
   "metadata": {},
   "outputs": [
    {
     "ename": "TypeError",
     "evalue": "unhashable type: 'set'",
     "output_type": "error",
     "traceback": [
      "\u001b[1;31m---------------------------------------------------------------------------\u001b[0m",
      "\u001b[1;31mTypeError\u001b[0m                                 Traceback (most recent call last)",
      "Input \u001b[1;32mIn [38]\u001b[0m, in \u001b[0;36m<cell line: 1>\u001b[1;34m()\u001b[0m\n\u001b[1;32m----> 1\u001b[0m \u001b[43my\u001b[49m\u001b[38;5;241;43m.\u001b[39;49m\u001b[43madd\u001b[49m\u001b[43m(\u001b[49m\u001b[43m{\u001b[49m\u001b[38;5;241;43m1\u001b[39;49m\u001b[43m,\u001b[49m\u001b[38;5;124;43m'\u001b[39;49m\u001b[38;5;124;43mk\u001b[39;49m\u001b[38;5;124;43m'\u001b[39;49m\u001b[43m}\u001b[49m\u001b[43m)\u001b[49m\n",
      "\u001b[1;31mTypeError\u001b[0m: unhashable type: 'set'"
     ]
    }
   ],
   "source": [
    "y.add({1,'k'})"
   ]
  },
  {
   "cell_type": "code",
   "execution_count": 39,
   "id": "e07eedf1",
   "metadata": {},
   "outputs": [],
   "source": [
    "y.add((1,'kk'))"
   ]
  },
  {
   "cell_type": "code",
   "execution_count": 40,
   "id": "518568b3",
   "metadata": {},
   "outputs": [
    {
     "data": {
      "text/plain": [
       "{(1, 'kk'), 1, 'sss', 'test'}"
      ]
     },
     "execution_count": 40,
     "metadata": {},
     "output_type": "execute_result"
    }
   ],
   "source": [
    "y"
   ]
  },
  {
   "cell_type": "code",
   "execution_count": 43,
   "id": "948890a4",
   "metadata": {},
   "outputs": [],
   "source": [
    "y.add((1,'kk',1))"
   ]
  },
  {
   "cell_type": "code",
   "execution_count": 44,
   "id": "37ba8890",
   "metadata": {},
   "outputs": [
    {
     "data": {
      "text/plain": [
       "{(1, 'kk'), (1, 'kk', 1), 1, 'sss', 'test'}"
      ]
     },
     "execution_count": 44,
     "metadata": {},
     "output_type": "execute_result"
    }
   ],
   "source": [
    "y"
   ]
  },
  {
   "cell_type": "code",
   "execution_count": 47,
   "id": "9e268b81",
   "metadata": {},
   "outputs": [],
   "source": [
    "z = {(1,'kk','S'),(1,'kk','S'),1,2,'kk'}"
   ]
  },
  {
   "cell_type": "code",
   "execution_count": 48,
   "id": "2dd4d40f",
   "metadata": {},
   "outputs": [
    {
     "data": {
      "text/plain": [
       "{(1, 'kk', 'S'), 1, 2, 'kk'}"
      ]
     },
     "execution_count": 48,
     "metadata": {},
     "output_type": "execute_result"
    }
   ],
   "source": [
    "z"
   ]
  },
  {
   "cell_type": "code",
   "execution_count": 49,
   "id": "ff34545b",
   "metadata": {},
   "outputs": [],
   "source": [
    "z.remove(2)"
   ]
  },
  {
   "cell_type": "code",
   "execution_count": 50,
   "id": "819229d3",
   "metadata": {},
   "outputs": [
    {
     "data": {
      "text/plain": [
       "{(1, 'kk', 'S'), 1, 'kk'}"
      ]
     },
     "execution_count": 50,
     "metadata": {},
     "output_type": "execute_result"
    }
   ],
   "source": [
    "z"
   ]
  },
  {
   "cell_type": "code",
   "execution_count": 51,
   "id": "cb87a71b",
   "metadata": {},
   "outputs": [],
   "source": [
    "z.add(2)"
   ]
  },
  {
   "cell_type": "code",
   "execution_count": 52,
   "id": "1eebde7c",
   "metadata": {},
   "outputs": [
    {
     "data": {
      "text/plain": [
       "{(1, 'kk', 'S'), 1, 2, 'kk'}"
      ]
     },
     "execution_count": 52,
     "metadata": {},
     "output_type": "execute_result"
    }
   ],
   "source": [
    "z"
   ]
  },
  {
   "cell_type": "code",
   "execution_count": 53,
   "id": "3bafd78b",
   "metadata": {},
   "outputs": [],
   "source": [
    "z.remove((1,'kk','S'))"
   ]
  },
  {
   "cell_type": "code",
   "execution_count": 54,
   "id": "a81b2af1",
   "metadata": {},
   "outputs": [
    {
     "data": {
      "text/plain": [
       "{1, 2, 'kk'}"
      ]
     },
     "execution_count": 54,
     "metadata": {},
     "output_type": "execute_result"
    }
   ],
   "source": [
    "z"
   ]
  },
  {
   "cell_type": "code",
   "execution_count": 55,
   "id": "0567f391",
   "metadata": {},
   "outputs": [],
   "source": [
    "z = {(1,'kk','S'),(1,'kk','S'),1,2,'kk'}"
   ]
  },
  {
   "cell_type": "code",
   "execution_count": 56,
   "id": "88831557",
   "metadata": {},
   "outputs": [
    {
     "data": {
      "text/plain": [
       "{(1, 'kk', 'S'), 1, 2, 'kk'}"
      ]
     },
     "execution_count": 56,
     "metadata": {},
     "output_type": "execute_result"
    }
   ],
   "source": [
    "z"
   ]
  },
  {
   "cell_type": "code",
   "execution_count": 57,
   "id": "db36171a",
   "metadata": {},
   "outputs": [],
   "source": [
    "z.discard(2)"
   ]
  },
  {
   "cell_type": "code",
   "execution_count": 58,
   "id": "bddba593",
   "metadata": {},
   "outputs": [
    {
     "data": {
      "text/plain": [
       "{(1, 'kk', 'S'), 1, 'kk'}"
      ]
     },
     "execution_count": 58,
     "metadata": {},
     "output_type": "execute_result"
    }
   ],
   "source": [
    "z"
   ]
  },
  {
   "cell_type": "code",
   "execution_count": 59,
   "id": "7c9fddd4",
   "metadata": {},
   "outputs": [],
   "source": [
    "z.discard(2)"
   ]
  },
  {
   "cell_type": "code",
   "execution_count": 60,
   "id": "7b531e94",
   "metadata": {},
   "outputs": [
    {
     "ename": "KeyError",
     "evalue": "2",
     "output_type": "error",
     "traceback": [
      "\u001b[1;31m---------------------------------------------------------------------------\u001b[0m",
      "\u001b[1;31mKeyError\u001b[0m                                  Traceback (most recent call last)",
      "Input \u001b[1;32mIn [60]\u001b[0m, in \u001b[0;36m<cell line: 1>\u001b[1;34m()\u001b[0m\n\u001b[1;32m----> 1\u001b[0m \u001b[43mz\u001b[49m\u001b[38;5;241;43m.\u001b[39;49m\u001b[43mremove\u001b[49m\u001b[43m(\u001b[49m\u001b[38;5;241;43m2\u001b[39;49m\u001b[43m)\u001b[49m\n",
      "\u001b[1;31mKeyError\u001b[0m: 2"
     ]
    }
   ],
   "source": [
    "z.remove(2)"
   ]
  },
  {
   "cell_type": "code",
   "execution_count": 62,
   "id": "ff4ac0cd",
   "metadata": {},
   "outputs": [
    {
     "ename": "TypeError",
     "evalue": "'set' object does not support item assignment",
     "output_type": "error",
     "traceback": [
      "\u001b[1;31m---------------------------------------------------------------------------\u001b[0m",
      "\u001b[1;31mTypeError\u001b[0m                                 Traceback (most recent call last)",
      "Input \u001b[1;32mIn [62]\u001b[0m, in \u001b[0;36m<cell line: 1>\u001b[1;34m()\u001b[0m\n\u001b[1;32m----> 1\u001b[0m z[\u001b[38;5;241m1\u001b[39m]\u001b[38;5;241m=\u001b[39m\u001b[38;5;124m'\u001b[39m\u001b[38;5;124ma\u001b[39m\u001b[38;5;124m'\u001b[39m\n",
      "\u001b[1;31mTypeError\u001b[0m: 'set' object does not support item assignment"
     ]
    }
   ],
   "source": [
    "z[1]='a'"
   ]
  },
  {
   "cell_type": "code",
   "execution_count": null,
   "id": "319baf57",
   "metadata": {},
   "outputs": [],
   "source": []
  }
 ],
 "metadata": {
  "kernelspec": {
   "display_name": "Python 3 (ipykernel)",
   "language": "python",
   "name": "python3"
  },
  "language_info": {
   "codemirror_mode": {
    "name": "ipython",
    "version": 3
   },
   "file_extension": ".py",
   "mimetype": "text/x-python",
   "name": "python",
   "nbconvert_exporter": "python",
   "pygments_lexer": "ipython3",
   "version": "3.9.12"
  }
 },
 "nbformat": 4,
 "nbformat_minor": 5
}
