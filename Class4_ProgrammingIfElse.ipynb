{
 "cells": [
  {
   "cell_type": "code",
   "execution_count": null,
   "id": "f9e81e6d",
   "metadata": {},
   "outputs": [],
   "source": [
    "# if else block\n",
    "# no need to write opening and closing block, just : for if, elif and else\n",
    "# if True:\n",
    "# elif True:\n",
    "# else:\n",
    "# Indentation is important"
   ]
  },
  {
   "cell_type": "code",
   "execution_count": 1,
   "id": "8236058e",
   "metadata": {},
   "outputs": [],
   "source": [
    "a = 11"
   ]
  },
  {
   "cell_type": "code",
   "execution_count": 2,
   "id": "c682268d",
   "metadata": {},
   "outputs": [
    {
     "data": {
      "text/plain": [
       "True"
      ]
     },
     "execution_count": 2,
     "metadata": {},
     "output_type": "execute_result"
    }
   ],
   "source": [
    "a < 15"
   ]
  },
  {
   "cell_type": "code",
   "execution_count": 13,
   "id": "6ac4fdc7",
   "metadata": {},
   "outputs": [
    {
     "ename": "IndentationError",
     "evalue": "expected an indented block (2393025789.py, line 2)",
     "output_type": "error",
     "traceback": [
      "\u001b[1;36m  Input \u001b[1;32mIn [13]\u001b[1;36m\u001b[0m\n\u001b[1;33m    if a < 15:\u001b[0m\n\u001b[1;37m              ^\u001b[0m\n\u001b[1;31mIndentationError\u001b[0m\u001b[1;31m:\u001b[0m expected an indented block\n"
     ]
    }
   ],
   "source": [
    "# Something has to be written inside if, otherwise error\n",
    "if a < 15:"
   ]
  },
  {
   "cell_type": "code",
   "execution_count": 16,
   "id": "3076ea6c",
   "metadata": {},
   "outputs": [],
   "source": [
    "# Something has to be written inside if, otherwise write pass just to continue without error - use when we do not want to do \n",
    "# anything\n",
    "if a < 15:\n",
    "    pass"
   ]
  },
  {
   "cell_type": "code",
   "execution_count": 18,
   "id": "ae0a856a",
   "metadata": {},
   "outputs": [
    {
     "ename": "SyntaxError",
     "evalue": "invalid syntax (1198902137.py, line 2)",
     "output_type": "error",
     "traceback": [
      "\u001b[1;36m  Input \u001b[1;32mIn [18]\u001b[1;36m\u001b[0m\n\u001b[1;33m    if a < 15\u001b[0m\n\u001b[1;37m             ^\u001b[0m\n\u001b[1;31mSyntaxError\u001b[0m\u001b[1;31m:\u001b[0m invalid syntax\n"
     ]
    }
   ],
   "source": [
    "# Collan is must\n",
    "if a < 15\n",
    "    print(True)\n",
    "    print('Multiple lines can be written here')"
   ]
  },
  {
   "cell_type": "code",
   "execution_count": 19,
   "id": "50de65eb",
   "metadata": {},
   "outputs": [
    {
     "name": "stdout",
     "output_type": "stream",
     "text": [
      "True\n",
      "Multiple lines can be written here\n"
     ]
    }
   ],
   "source": [
    "if a < 15:\n",
    "    print(True)\n",
    "    print('Multiple lines can be written here')"
   ]
  },
  {
   "cell_type": "code",
   "execution_count": 26,
   "id": "a98495e5",
   "metadata": {},
   "outputs": [
    {
     "name": "stdout",
     "output_type": "stream",
     "text": [
      "True\n",
      "Multiple lines can be written here\n"
     ]
    }
   ],
   "source": [
    "if a<15:\n",
    "    print(True)\n",
    "    print('Multiple lines can be written here')"
   ]
  },
  {
   "cell_type": "code",
   "execution_count": 27,
   "id": "114ef37a",
   "metadata": {},
   "outputs": [
    {
     "name": "stdout",
     "output_type": "stream",
     "text": [
      "Simply\n"
     ]
    }
   ],
   "source": [
    "if True:\n",
    "    print('Simply')"
   ]
  },
  {
   "cell_type": "code",
   "execution_count": 28,
   "id": "d4625a10",
   "metadata": {},
   "outputs": [
    {
     "data": {
      "text/plain": [
       "False"
      ]
     },
     "execution_count": 28,
     "metadata": {},
     "output_type": "execute_result"
    }
   ],
   "source": [
    "a > 15"
   ]
  },
  {
   "cell_type": "code",
   "execution_count": 29,
   "id": "a6fee15a",
   "metadata": {},
   "outputs": [],
   "source": [
    "if a > 15:\n",
    "    print('simply')"
   ]
  },
  {
   "cell_type": "code",
   "execution_count": 31,
   "id": "26093548",
   "metadata": {},
   "outputs": [
    {
     "name": "stdout",
     "output_type": "stream",
     "text": [
      "simply else\n",
      "else\n"
     ]
    }
   ],
   "source": [
    "if a > 15:\n",
    "    print('simply if')\n",
    "    print('if')\n",
    "else:\n",
    "    print('simply else')\n",
    "    print('else')"
   ]
  },
  {
   "cell_type": "code",
   "execution_count": null,
   "id": "0445c955",
   "metadata": {},
   "outputs": [],
   "source": [
    "# Purchasing capability\n",
    "income = int(input())\n",
    "if income < 50:\n",
    "    print('I will be able to buy phone')\n",
    "elif income < 70:\n",
    "    print('I will be able to car')\n",
    "elif income < 90:\n",
    "    print('i will be able to rent a house')\n",
    "else:\n",
    "    print('i wont be able to buy anything')"
   ]
  },
  {
   "cell_type": "code",
   "execution_count": 4,
   "id": "50e1e925",
   "metadata": {},
   "outputs": [
    {
     "name": "stdout",
     "output_type": "stream",
     "text": [
      "8000\n",
      "5 % Discounted price  400.0\n",
      "5 % Discounted price 400.0\n"
     ]
    }
   ],
   "source": [
    "total_price = int(input())\n",
    "if total_price > 20000:\n",
    "    discount = total_price * 0.2\n",
    "    print('20 % Discounted price ', discount)\n",
    "    print('20 % Discounted price ' + str(discount))\n",
    "elif total_price >= 7000:\n",
    "    discount = total_price * 0.05\n",
    "    print('5 % Discounted price ', discount)\n",
    "    print('5 % Discounted price ' + str(discount))\n",
    "else:\n",
    "    print('no discount')"
   ]
  },
  {
   "cell_type": "code",
   "execution_count": 6,
   "id": "51fc3ea3",
   "metadata": {},
   "outputs": [],
   "source": [
    "a = 100"
   ]
  },
  {
   "cell_type": "code",
   "execution_count": 10,
   "id": "b754d60b",
   "metadata": {},
   "outputs": [
    {
     "data": {
      "text/plain": [
       "False"
      ]
     },
     "execution_count": 10,
     "metadata": {},
     "output_type": "execute_result"
    }
   ],
   "source": [
    "'kk' == 'KK'"
   ]
  },
  {
   "cell_type": "code",
   "execution_count": 27,
   "id": "2213455b",
   "metadata": {},
   "outputs": [
    {
     "name": "stdout",
     "output_type": "stream",
     "text": [
      "  KK25  \n",
      "1\n",
      "No discount applied, final price is  1\n"
     ]
    }
   ],
   "source": [
    "coupon = input().strip()\n",
    "# strip to remove spaces\n",
    "paid_amount = int(input())\n",
    "if coupon == 'KK25':\n",
    "    print('25% coupon has been applied on paid amount of ', paid_amount)\n",
    "    print('Discounted amount is ', paid_amount - paid_amount*0.25)\n",
    "else:\n",
    "    print('No discount applied, final price is ', paid_amount)"
   ]
  },
  {
   "cell_type": "code",
   "execution_count": 20,
   "id": "a9899e4a",
   "metadata": {},
   "outputs": [
    {
     "data": {
      "text/plain": [
       "False"
      ]
     },
     "execution_count": 20,
     "metadata": {},
     "output_type": "execute_result"
    }
   ],
   "source": [
    "a != 'KK'"
   ]
  },
  {
   "cell_type": "code",
   "execution_count": 38,
   "id": "18fc2d66",
   "metadata": {},
   "outputs": [
    {
     "name": "stdout",
     "output_type": "stream",
     "text": [
      "1\n",
      "else\n"
     ]
    }
   ],
   "source": [
    "study_hours = int(input())\n",
    "if study_hours < 1:\n",
    "    print('1 hour - study more')\n",
    "elif study_hours > 1 and study_hours < 4:\n",
    "# we can also use &\n",
    "    print('between 1 and 4 hours')\n",
    "elif study_hours > 4 or study_hours > 5:\n",
    "    print('Some bakwas')\n",
    "else:\n",
    "    print('else')"
   ]
  },
  {
   "cell_type": "code",
   "execution_count": 48,
   "id": "9e6860c8",
   "metadata": {},
   "outputs": [
    {
     "name": "stdout",
     "output_type": "stream",
     "text": [
      "Enter oneneuron or onenueronservice1\n",
      "enter course name DSA/Blockchain/FSDS1\n",
      "enter course request/module request/doubt clearing1\n",
      "enter valid inputs\n"
     ]
    }
   ],
   "source": [
    "# Nested if else\n",
    "\n",
    "s = input('Enter oneneuron or onenueronservice')\n",
    "course = input('enter course name DSA/Blockchain/FSDS')\n",
    "service = input('enter course request/module request/doubt clearing')\n",
    "if s == 'oneneuron':\n",
    "    if course == 'DSA':\n",
    "        print('yes its available under oneneuron')\n",
    "    elif course == 'Blockchain':\n",
    "        print('Not available as of now')\n",
    "    elif course == 'FSDS':\n",
    "        print('yes its available')\n",
    "    else:\n",
    "        print('this course is not available for onenueron')\n",
    "elif s == 'onenueronservice':\n",
    "    if service == 'course request':\n",
    "        print('Request received')\n",
    "    elif service == 'module request':\n",
    "        print('Module request received')\n",
    "    elif service == 'doubt clearing':\n",
    "        print('doubt request raised')\n",
    "    else:\n",
    "        print('this course is not available for onenueronservice')\n",
    "else:\n",
    "    print('enter valid inputs')"
   ]
  }
 ],
 "metadata": {
  "kernelspec": {
   "display_name": "Python 3 (ipykernel)",
   "language": "python",
   "name": "python3"
  },
  "language_info": {
   "codemirror_mode": {
    "name": "ipython",
    "version": 3
   },
   "file_extension": ".py",
   "mimetype": "text/x-python",
   "name": "python",
   "nbconvert_exporter": "python",
   "pygments_lexer": "ipython3",
   "version": "3.9.12"
  }
 },
 "nbformat": 4,
 "nbformat_minor": 5
}
