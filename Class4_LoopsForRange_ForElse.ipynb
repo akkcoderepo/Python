{
 "cells": [
  {
   "cell_type": "code",
   "execution_count": null,
   "id": "d784b253",
   "metadata": {},
   "outputs": [],
   "source": [
    "# for loop - use when we know how many times we need to execute\n",
    "# increment is automatic - iter and next funtion are inbuilt by default\n",
    "\n",
    "# enumerate - to get both the subscript and its value in a tuple\n",
    "\n",
    "# range(x,y)\n",
    "\n",
    "# for ... else...\n",
    "\n",
    "# Break, continue, pass"
   ]
  },
  {
   "cell_type": "code",
   "execution_count": 8,
   "id": "a69a42c3",
   "metadata": {},
   "outputs": [
    {
     "name": "stdout",
     "output_type": "stream",
     "text": [
      "1\n",
      "2\n",
      "3\n",
      "4\n",
      "5\n",
      "6\n",
      "7\n",
      "8\n"
     ]
    }
   ],
   "source": [
    "l = [1,2,3,4,5,6,7,8]\n",
    "for i in l:\n",
    "    print(i)"
   ]
  },
  {
   "cell_type": "code",
   "execution_count": 9,
   "id": "62b10159",
   "metadata": {},
   "outputs": [
    {
     "name": "stdout",
     "output_type": "stream",
     "text": [
      "a\n",
      "k\n",
      "k\n"
     ]
    }
   ],
   "source": [
    "for i in 'akk':\n",
    "    print(i)"
   ]
  },
  {
   "cell_type": "code",
   "execution_count": 10,
   "id": "db579aeb",
   "metadata": {},
   "outputs": [
    {
     "name": "stdout",
     "output_type": "stream",
     "text": [
      "a\n",
      "k\n",
      "k\n"
     ]
    }
   ],
   "source": [
    "name = 'akk'\n",
    "for i in name:\n",
    "    print(i)"
   ]
  },
  {
   "cell_type": "code",
   "execution_count": 25,
   "id": "3fe2b41f",
   "metadata": {},
   "outputs": [
    {
     "name": "stdout",
     "output_type": "stream",
     "text": [
      "1\n",
      "2\n",
      "3\n",
      "4\n",
      "5\n",
      "akk\n"
     ]
    },
    {
     "data": {
      "text/plain": [
       "2"
      ]
     },
     "execution_count": 25,
     "metadata": {},
     "output_type": "execute_result"
    }
   ],
   "source": [
    "t = (1,2,3,4,5,'akk')\n",
    "for i in t:\n",
    "    print(i)"
   ]
  },
  {
   "cell_type": "code",
   "execution_count": 23,
   "id": "84f429be",
   "metadata": {},
   "outputs": [
    {
     "name": "stdout",
     "output_type": "stream",
     "text": [
      "1\n",
      "2\n",
      "3\n",
      "4\n",
      "5\n"
     ]
    }
   ],
   "source": [
    "s = {1,2,3,4,5}\n",
    "for i in s:\n",
    "    print(i)"
   ]
  },
  {
   "cell_type": "code",
   "execution_count": 21,
   "id": "e1889647",
   "metadata": {},
   "outputs": [
    {
     "name": "stdout",
     "output_type": "stream",
     "text": [
      "name\n",
      "phone\n"
     ]
    }
   ],
   "source": [
    "d = {'name':'akk','phone':9448974842}\n",
    "for i in d:\n",
    "    print(i)"
   ]
  },
  {
   "cell_type": "code",
   "execution_count": 31,
   "id": "2e598b6f",
   "metadata": {},
   "outputs": [
    {
     "name": "stdout",
     "output_type": "stream",
     "text": [
      "Value in the list is  1  -------- > Type of the value  <class 'int'>\n",
      "Value in the list is  2.1  -------- > Type of the value  <class 'float'>\n",
      "Value in the list is  sudh  -------- > Type of the value  <class 'str'>\n",
      "Value in the list is  (1+2j)  -------- > Type of the value  <class 'complex'>\n",
      "Value in the list is  {1, 2}  -------- > Type of the value  <class 'set'>\n",
      "Value in the list is  (1, 2)  -------- > Type of the value  <class 'tuple'>\n",
      "Value in the list is  [1, 2]  -------- > Type of the value  <class 'list'>\n",
      "Value in the list is  {1: 2}  -------- > Type of the value  <class 'dict'>\n"
     ]
    }
   ],
   "source": [
    "l = [1,2.1,'sudh',1+2j,{1,2},(1,2),[1,2],{1:2}]\n",
    "for i in l:\n",
    "    print('Value in the list is ', i, ' -------- > Type of the value ',type(i))"
   ]
  },
  {
   "cell_type": "code",
   "execution_count": 33,
   "id": "d9d2ed41",
   "metadata": {},
   "outputs": [
    {
     "name": "stdout",
     "output_type": "stream",
     "text": [
      "Add 2 to  1  the resultant is  3\n",
      "Add 2 to  2  the resultant is  4\n",
      "Add 2 to  3  the resultant is  5\n",
      "Add 2 to  4  the resultant is  6\n",
      "Add 2 to  5  the resultant is  7\n",
      "Add 2 to  6  the resultant is  8\n"
     ]
    }
   ],
   "source": [
    "# Add 2 to each element in the list\n",
    "l = [1,2,3,4,5,6]\n",
    "for i in l:\n",
    "    print('Add 2 to ',i,' the resultant is ' ,i+2)"
   ]
  },
  {
   "cell_type": "code",
   "execution_count": 37,
   "id": "1367b831",
   "metadata": {},
   "outputs": [
    {
     "name": "stdout",
     "output_type": "stream",
     "text": [
      "List before adding 2  [1, 2, 3, 4, 5, 6]\n",
      "List after adding 2  [3, 4, 5, 6, 7, 8]\n"
     ]
    }
   ],
   "source": [
    "# Add 2 to each element and return a list\n",
    "l = [1,2,3,4,5,6]\n",
    "print('List before adding 2 ',l)\n",
    "l1 = []\n",
    "for i in l:\n",
    "    l1.append(i+2)\n",
    "print('List after adding 2 ', l1)"
   ]
  },
  {
   "cell_type": "code",
   "execution_count": 55,
   "id": "8566c72d",
   "metadata": {},
   "outputs": [
    {
     "name": "stdout",
     "output_type": "stream",
     "text": [
      "Integer values are :  2\n",
      "String values are :  akk\n",
      "Integer values are :  11\n",
      "Complex values are  (1+2j)\n",
      "Float values are :  2.1\n",
      "Integer values are :  9\n",
      "String values are :  kk\n",
      "List values are  [1, 2, 'kk']\n"
     ]
    }
   ],
   "source": [
    "# Filter out different data types\n",
    "l = [2,'akk',11,1+2j,2.1,9,'kk',[1,2,'kk']]\n",
    "for i in l:\n",
    "    if type(i) == int:\n",
    "        print('Integer values are : ',i)\n",
    "    elif type(i) == float:\n",
    "        print('Float values are : ',i)\n",
    "    elif type(i) == str:\n",
    "        print('String values are : ',i)\n",
    "    elif type(i) == complex:\n",
    "        print('Complex values are ',i)\n",
    "    elif type(i) == list:\n",
    "        print('List values are ',i)\n",
    "    else:\n",
    "        print('new data type')"
   ]
  },
  {
   "cell_type": "code",
   "execution_count": 54,
   "id": "ed317855",
   "metadata": {},
   "outputs": [
    {
     "name": "stdout",
     "output_type": "stream",
     "text": [
      "List of integers are  [2, 11, 9]\n"
     ]
    }
   ],
   "source": [
    "# Make a list of only integers\n",
    "l = [2,'akk',11,1+2j,2.1,9,'kk',[1,2,'kk']]\n",
    "l2 = []\n",
    "for i in l:\n",
    "    if type(i) == int:\n",
    "        l2.append(i)\n",
    "print('List of integers are ',l2)"
   ]
  },
  {
   "cell_type": "code",
   "execution_count": 59,
   "id": "74edc853",
   "metadata": {},
   "outputs": [
    {
     "name": "stdout",
     "output_type": "stream",
     "text": [
      "1\n",
      "2\n"
     ]
    }
   ],
   "source": [
    "# Print integer values from list only\n",
    "l = [2,'akk',11,1+2j,2.1,9,'kk',[1,2,'kk']]\n",
    "for i in l:\n",
    "    if type(i) == list:\n",
    "        for j in i:\n",
    "            if type(j) == int:\n",
    "                print(j)"
   ]
  },
  {
   "cell_type": "code",
   "execution_count": 62,
   "id": "a4f03938",
   "metadata": {},
   "outputs": [
    {
     "name": "stdout",
     "output_type": "stream",
     "text": [
      "1\n",
      "2\n"
     ]
    }
   ],
   "source": [
    "for i in range(1,3):\n",
    "    print(i)"
   ]
  },
  {
   "cell_type": "code",
   "execution_count": 1,
   "id": "4ae1c0be",
   "metadata": {},
   "outputs": [
    {
     "name": "stdout",
     "output_type": "stream",
     "text": [
      "Index of value  2  is  0\n",
      "Index of value  45  is  1\n",
      "Index of value  78  is  2\n",
      "Index of value  2  is  0\n",
      "Index of value  sudh  is  4\n",
      "String value is * sudh * individual characters are \n",
      "s\n",
      "u\n",
      "d\n",
      "h\n",
      "Index of value  (6+7j)  is  5\n",
      "Index of value  [56, 67, 78, 'dsfdsf']  is  6\n",
      "Index of value  12  is  7\n",
      "List after doing square of all the integer elements  [4, 2025, 6084, 4, 144]\n"
     ]
    }
   ],
   "source": [
    "# Print index of all the elements\n",
    "# Extract all the characters if the element is string\n",
    "# Create a list after doing square of all the integer elements\n",
    "\n",
    "l = [2,45,78,2,'sudh',6+7j,[56,67,78,'dsfdsf'],12]\n",
    "square_list = []\n",
    "for i in l:\n",
    "    print('Index of value ',i,' is ',l.index(i))\n",
    "    if type(i) == str:\n",
    "        print('String value is *',i, '* individual characters are ')\n",
    "        for j in i:\n",
    "            print(j)\n",
    "    elif type(i) == int:\n",
    "        square_list.append(i*i)\n",
    "print('List after doing square of all the integer elements ',square_list)"
   ]
  },
  {
   "cell_type": "code",
   "execution_count": 37,
   "id": "20fb6f7e",
   "metadata": {},
   "outputs": [
    {
     "name": "stdout",
     "output_type": "stream",
     "text": [
      "Index of element  2  is  0\n",
      "Index of element  45  is  1\n",
      "Index of element  78  is  2\n",
      "Index of element  2  is  3\n",
      "Index of element  sudh  is  4\n",
      "Each character in the string  sudh  are :\n",
      "s\n",
      "u\n",
      "d\n",
      "h\n",
      "Index of element  (6+7j)  is  5\n",
      "Index of element  [56, 67, 78, 'dsfdsf']  is  6\n",
      "Index of element  12  is  7\n",
      "All the integers are  [2, 45, 78, 2, 12]\n",
      "Square of all the integers are  [4, 2025, 6084, 4, 144]\n"
     ]
    }
   ],
   "source": [
    "# Print index of all the elements - do not use index method as it returns only the first value index in case of duplicates.\n",
    "# Extract all the characters if the element is string\n",
    "# Create a list after doing square of all the integer elements\n",
    "\n",
    "listt = [2,45,78,2,'sudh',6+7j,[56,67,78,'dsfdsf'],12]\n",
    "int_list = []\n",
    "sq_list = []\n",
    "indexx = 0\n",
    "for element in listt:\n",
    "    print('Index of element ',element, ' is ',indexx)\n",
    "    indexx = indexx + 1\n",
    "    if type(element) == str:\n",
    "        print('Each character in the string ',element,' are :')\n",
    "        for char in element:\n",
    "            print(char)\n",
    "    elif type(element) == int:\n",
    "        int_list.append(element)\n",
    "#        sq_list.append(element*element)\n",
    "        sq_list.append(element**2)\n",
    "print('All the integers are ',int_list)\n",
    "print('Square of all the integers are ',sq_list)"
   ]
  },
  {
   "cell_type": "code",
   "execution_count": 25,
   "id": "005d5be2",
   "metadata": {},
   "outputs": [
    {
     "name": "stdout",
     "output_type": "stream",
     "text": [
      "Index of  2  is : 0\n",
      "Index of  45  is : 1\n",
      "Index of  78  is : 2\n",
      "Index of  2  is : 3\n",
      "Index of  sudh  is : 4\n",
      "s\n",
      "u\n",
      "d\n",
      "h\n",
      "Index of  (6+7j)  is : 5\n",
      "Index of  [56, 67, 78, 'dsfdsf']  is : 6\n",
      "Index of  12  is : 7\n",
      "[4, 2025, 6084, 4, 144]\n"
     ]
    }
   ],
   "source": [
    "# Print index of all the elements - do not use index method as it returns only the first value index in case of duplicates.\n",
    "# Extract all the characters if the element is string\n",
    "# Create a list after doing square of all the integer elements\n",
    "# Use range funcion\n",
    "\n",
    "listt = [2,45,78,2,'sudh',6+7j,[56,67,78,'dsfdsf'],12]\n",
    "int_list = []\n",
    "sq_list = []\n",
    "indexx = 0\n",
    "\n",
    "#for i in range(0,len(listt)):\n",
    "# or\n",
    "for i in range(len(listt)):\n",
    "    print('Index of ',listt[i],' is :',i)\n",
    "    if type(listt[i]) == str:\n",
    "        for j in listt[i]:\n",
    "            print(j)\n",
    "    elif type(listt[i]) == int:\n",
    "        sq_list.append(listt[i]*listt[i])\n",
    "print(sq_list)"
   ]
  },
  {
   "cell_type": "code",
   "execution_count": 18,
   "id": "dfc99a4d",
   "metadata": {},
   "outputs": [
    {
     "data": {
      "text/plain": [
       "range(0, 99)"
      ]
     },
     "execution_count": 18,
     "metadata": {},
     "output_type": "execute_result"
    }
   ],
   "source": [
    "range(99)"
   ]
  },
  {
   "cell_type": "code",
   "execution_count": 33,
   "id": "9fbfd7ec",
   "metadata": {},
   "outputs": [
    {
     "name": "stdout",
     "output_type": "stream",
     "text": [
      "0\n",
      "1\n",
      "2\n"
     ]
    }
   ],
   "source": [
    "for i in range(3):\n",
    "    print(i)"
   ]
  },
  {
   "cell_type": "code",
   "execution_count": 34,
   "id": "16ef928b",
   "metadata": {},
   "outputs": [
    {
     "name": "stdout",
     "output_type": "stream",
     "text": [
      "1\n",
      "2\n"
     ]
    }
   ],
   "source": [
    "for i in range(1,3):\n",
    "    print(i)"
   ]
  },
  {
   "cell_type": "code",
   "execution_count": 31,
   "id": "4219d50c",
   "metadata": {},
   "outputs": [
    {
     "data": {
      "text/plain": [
       "[1, 2, 3, 4, 5, 6, 7, 8, 9, 10, 11, 12, 13, 14, 15, 16, 17, 18, 19]"
      ]
     },
     "execution_count": 31,
     "metadata": {},
     "output_type": "execute_result"
    }
   ],
   "source": [
    "list(range(1,20))"
   ]
  },
  {
   "cell_type": "code",
   "execution_count": 30,
   "id": "7def0be6",
   "metadata": {},
   "outputs": [
    {
     "data": {
      "text/plain": [
       "[1, 2, 3, 4, 5, 6, 7, 8, 9, 10, 11, 12, 13, 14, 15, 16, 17, 18, 19]"
      ]
     },
     "execution_count": 30,
     "metadata": {},
     "output_type": "execute_result"
    }
   ],
   "source": [
    "list(range(1,20,1))"
   ]
  },
  {
   "cell_type": "code",
   "execution_count": 29,
   "id": "8ec474ed",
   "metadata": {},
   "outputs": [
    {
     "data": {
      "text/plain": [
       "[1, 3, 5, 7, 9, 11, 13, 15, 17, 19]"
      ]
     },
     "execution_count": 29,
     "metadata": {},
     "output_type": "execute_result"
    }
   ],
   "source": [
    "list(range(1,20,2))"
   ]
  },
  {
   "cell_type": "code",
   "execution_count": 32,
   "id": "608f2d65",
   "metadata": {},
   "outputs": [
    {
     "data": {
      "text/plain": [
       "[]"
      ]
     },
     "execution_count": 32,
     "metadata": {},
     "output_type": "execute_result"
    }
   ],
   "source": [
    "list(range(3,20,-1))"
   ]
  },
  {
   "cell_type": "code",
   "execution_count": 33,
   "id": "e04b8c27",
   "metadata": {},
   "outputs": [
    {
     "data": {
      "text/plain": [
       "[20, 19, 18, 17, 16, 15, 14, 13, 12, 11, 10, 9, 8, 7]"
      ]
     },
     "execution_count": 33,
     "metadata": {},
     "output_type": "execute_result"
    }
   ],
   "source": [
    "list(range(20,6,-1))"
   ]
  },
  {
   "cell_type": "code",
   "execution_count": 34,
   "id": "6cc34184",
   "metadata": {},
   "outputs": [
    {
     "data": {
      "text/plain": [
       "[20, 18, 16, 14, 12, 10, 8, 6, 4, 2, 0, -2, -4]"
      ]
     },
     "execution_count": 34,
     "metadata": {},
     "output_type": "execute_result"
    }
   ],
   "source": [
    "list(range(20,-5,-2))"
   ]
  },
  {
   "cell_type": "code",
   "execution_count": 35,
   "id": "d46a7c2b",
   "metadata": {},
   "outputs": [
    {
     "name": "stdout",
     "output_type": "stream",
     "text": [
      "20\n",
      "18\n",
      "16\n",
      "14\n",
      "12\n",
      "10\n",
      "8\n",
      "6\n",
      "4\n",
      "2\n",
      "0\n",
      "-2\n",
      "-4\n"
     ]
    }
   ],
   "source": [
    "for i in range(20,-5,-2):\n",
    "    print(i)"
   ]
  },
  {
   "cell_type": "code",
   "execution_count": 27,
   "id": "57196403",
   "metadata": {},
   "outputs": [
    {
     "data": {
      "text/plain": [
       "[0, 1, 2]"
      ]
     },
     "execution_count": 27,
     "metadata": {},
     "output_type": "execute_result"
    }
   ],
   "source": [
    "list(range(3))"
   ]
  },
  {
   "cell_type": "code",
   "execution_count": 36,
   "id": "6e1cd2c4",
   "metadata": {},
   "outputs": [
    {
     "name": "stdout",
     "output_type": "stream",
     "text": [
      "(0, 2)\n",
      "0\n",
      "2\n",
      "(1, 45)\n",
      "1\n",
      "45\n",
      "(2, 78)\n",
      "2\n",
      "78\n",
      "(3, 2)\n",
      "3\n",
      "2\n",
      "(4, 'sudh')\n",
      "4\n",
      "sudh\n",
      "(5, (6+7j))\n",
      "5\n",
      "(6+7j)\n",
      "(6, [56, 67, 78, 'dsfdsf'])\n",
      "6\n",
      "[56, 67, 78, 'dsfdsf']\n",
      "(7, 12)\n",
      "7\n",
      "12\n",
      "0\n",
      "2\n",
      "1\n",
      "45\n",
      "2\n",
      "78\n",
      "3\n",
      "2\n",
      "4\n",
      "sudh\n",
      "5\n",
      "(6+7j)\n",
      "6\n",
      "[56, 67, 78, 'dsfdsf']\n",
      "7\n",
      "12\n"
     ]
    }
   ],
   "source": [
    "listt = [2,45,78,2,'sudh',6+7j,[56,67,78,'dsfdsf'],12]\n",
    "for i in enumerate(listt):\n",
    "    print(i)\n",
    "    print(i[0])\n",
    "    print(i[1])\n",
    "for i,j in enumerate(listt):\n",
    "    print(i)\n",
    "    print(j)"
   ]
  },
  {
   "cell_type": "code",
   "execution_count": 41,
   "id": "5c1cddc6",
   "metadata": {},
   "outputs": [
    {
     "data": {
      "text/plain": [
       "8"
      ]
     },
     "execution_count": 41,
     "metadata": {},
     "output_type": "execute_result"
    }
   ],
   "source": [
    "2**3"
   ]
  },
  {
   "cell_type": "code",
   "execution_count": 1,
   "id": "8abf7eb4",
   "metadata": {},
   "outputs": [
    {
     "data": {
      "text/plain": [
       "625"
      ]
     },
     "execution_count": 1,
     "metadata": {},
     "output_type": "execute_result"
    }
   ],
   "source": [
    "25**2"
   ]
  },
  {
   "cell_type": "code",
   "execution_count": 5,
   "id": "981b1569",
   "metadata": {},
   "outputs": [
    {
     "name": "stdout",
     "output_type": "stream",
     "text": [
      "name simply\n",
      "namesimply\n",
      "email simply\n",
      "emailsimply\n",
      "phone simply\n",
      "phonesimply\n",
      "address simply\n",
      "addresssimply\n",
      "2 simply\n"
     ]
    },
    {
     "ename": "TypeError",
     "evalue": "unsupported operand type(s) for +: 'int' and 'str'",
     "output_type": "error",
     "traceback": [
      "\u001b[1;31m---------------------------------------------------------------------------\u001b[0m",
      "\u001b[1;31mTypeError\u001b[0m                                 Traceback (most recent call last)",
      "Input \u001b[1;32mIn [5]\u001b[0m, in \u001b[0;36m<cell line: 2>\u001b[1;34m()\u001b[0m\n\u001b[0;32m      2\u001b[0m \u001b[38;5;28;01mfor\u001b[39;00m i \u001b[38;5;129;01min\u001b[39;00m l:\n\u001b[0;32m      3\u001b[0m     \u001b[38;5;28mprint\u001b[39m(i,\u001b[38;5;124m'\u001b[39m\u001b[38;5;124msimply\u001b[39m\u001b[38;5;124m'\u001b[39m)\n\u001b[1;32m----> 4\u001b[0m     \u001b[38;5;28mprint\u001b[39m(\u001b[43mi\u001b[49m\u001b[43m \u001b[49m\u001b[38;5;241;43m+\u001b[39;49m\u001b[43m \u001b[49m\u001b[38;5;124;43m'\u001b[39;49m\u001b[38;5;124;43msimply\u001b[39;49m\u001b[38;5;124;43m'\u001b[39;49m)\n",
      "\u001b[1;31mTypeError\u001b[0m: unsupported operand type(s) for +: 'int' and 'str'"
     ]
    }
   ],
   "source": [
    "l = ['name','email','phone','address',2]\n",
    "for i in l:\n",
    "    print(i,'simply')\n",
    "    print(i + 'simply')"
   ]
  },
  {
   "cell_type": "code",
   "execution_count": 18,
   "id": "f8f971a0",
   "metadata": {},
   "outputs": [
    {
     "name": "stdout",
     "output_type": "stream",
     "text": [
      "name\n",
      "email\n"
     ]
    }
   ],
   "source": [
    "# break\n",
    "l = ['name','email','phone',1,'address']\n",
    "for i in l:\n",
    "    if (type(i) == int) or (i == 'phone'):\n",
    "        break\n",
    "        print(i)\n",
    "    print(i)"
   ]
  },
  {
   "cell_type": "code",
   "execution_count": 19,
   "id": "a823ca61",
   "metadata": {},
   "outputs": [
    {
     "name": "stdout",
     "output_type": "stream",
     "text": [
      "name\n",
      "email\n",
      "address\n"
     ]
    }
   ],
   "source": [
    "# continue\n",
    "l = ['name','email','phone',1,'address']\n",
    "for i in l:\n",
    "    if (type(i) == int) or (i == 'phone'):\n",
    "        continue\n",
    "        print(i)\n",
    "    print(i)"
   ]
  },
  {
   "cell_type": "code",
   "execution_count": 20,
   "id": "15c98651",
   "metadata": {},
   "outputs": [
    {
     "name": "stdout",
     "output_type": "stream",
     "text": [
      "name\n",
      "email\n",
      "phone\n",
      "phone\n",
      "1\n",
      "1\n",
      "address\n"
     ]
    }
   ],
   "source": [
    "# pass\n",
    "l = ['name','email','phone',1,'address']\n",
    "for i in l:\n",
    "    if (type(i) == int) or (i == 'phone'):\n",
    "        pass\n",
    "        print(i)\n",
    "    print(i)"
   ]
  },
  {
   "cell_type": "code",
   "execution_count": 24,
   "id": "baa71f3f",
   "metadata": {},
   "outputs": [
    {
     "name": "stdout",
     "output_type": "stream",
     "text": [
      "name\n",
      "email\n",
      "phone\n",
      "1\n",
      "address\n",
      "all the items in the for loop are processed\n"
     ]
    }
   ],
   "source": [
    "# for... else...\n",
    "for i in l:\n",
    "    print(i)\n",
    "else:\n",
    "    print('all the items in the for loop are processed')"
   ]
  },
  {
   "cell_type": "code",
   "execution_count": 25,
   "id": "bf1eb717",
   "metadata": {},
   "outputs": [
    {
     "name": "stdout",
     "output_type": "stream",
     "text": [
      "name\n",
      "email\n",
      "phone\n"
     ]
    }
   ],
   "source": [
    "# for... else...\n",
    "for i in l:\n",
    "    if (type(i) == int):\n",
    "        break\n",
    "    print(i)\n",
    "else:\n",
    "    print('all the items in the for loop are completely processed')"
   ]
  },
  {
   "cell_type": "code",
   "execution_count": null,
   "id": "578603c7",
   "metadata": {},
   "outputs": [],
   "source": []
  }
 ],
 "metadata": {
  "kernelspec": {
   "display_name": "Python 3 (ipykernel)",
   "language": "python",
   "name": "python3"
  },
  "language_info": {
   "codemirror_mode": {
    "name": "ipython",
    "version": 3
   },
   "file_extension": ".py",
   "mimetype": "text/x-python",
   "name": "python",
   "nbconvert_exporter": "python",
   "pygments_lexer": "ipython3",
   "version": "3.9.12"
  }
 },
 "nbformat": 4,
 "nbformat_minor": 5
}
