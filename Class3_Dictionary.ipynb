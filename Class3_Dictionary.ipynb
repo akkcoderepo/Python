{
 "cells": [
  {
   "cell_type": "code",
   "execution_count": 1,
   "id": "042f52f9",
   "metadata": {},
   "outputs": [],
   "source": [
    "# key:value\n",
    "# Can have list, tuple, set and dictionary within dictionary\n",
    "# It is mutable\n",
    "# We can access the elements by its key, not by index."
   ]
  },
  {
   "cell_type": "code",
   "execution_count": 2,
   "id": "9ebdf766",
   "metadata": {},
   "outputs": [],
   "source": [
    "d = {2,1,1}"
   ]
  },
  {
   "cell_type": "code",
   "execution_count": 3,
   "id": "cc5e9680",
   "metadata": {},
   "outputs": [
    {
     "data": {
      "text/plain": [
       "set"
      ]
     },
     "execution_count": 3,
     "metadata": {},
     "output_type": "execute_result"
    }
   ],
   "source": [
    "type(d)"
   ]
  },
  {
   "cell_type": "code",
   "execution_count": 4,
   "id": "503f4bd8",
   "metadata": {},
   "outputs": [],
   "source": [
    "d = {'ID':1,4:'kk'}"
   ]
  },
  {
   "cell_type": "code",
   "execution_count": 5,
   "id": "aad79338",
   "metadata": {},
   "outputs": [
    {
     "data": {
      "text/plain": [
       "dict"
      ]
     },
     "execution_count": 5,
     "metadata": {},
     "output_type": "execute_result"
    }
   ],
   "source": [
    "type(d)"
   ]
  },
  {
   "cell_type": "code",
   "execution_count": 10,
   "id": "8999418c",
   "metadata": {},
   "outputs": [
    {
     "data": {
      "text/plain": [
       "'kk'"
      ]
     },
     "execution_count": 10,
     "metadata": {},
     "output_type": "execute_result"
    }
   ],
   "source": [
    "d[4]"
   ]
  },
  {
   "cell_type": "code",
   "execution_count": 11,
   "id": "9d9298e3",
   "metadata": {},
   "outputs": [
    {
     "data": {
      "text/plain": [
       "1"
      ]
     },
     "execution_count": 11,
     "metadata": {},
     "output_type": "execute_result"
    }
   ],
   "source": [
    "d['ID']"
   ]
  },
  {
   "cell_type": "code",
   "execution_count": 16,
   "id": "11bb83b6",
   "metadata": {},
   "outputs": [],
   "source": [
    "d = {1:'kk',2:{'kk',2},3:(1,2),4:[11,12]}"
   ]
  },
  {
   "cell_type": "code",
   "execution_count": 154,
   "id": "c1a6065b",
   "metadata": {},
   "outputs": [],
   "source": [
    "d = {'integer':1,'character':'kk','list':[1,2,'akk'],'tuple':(1,1,'d'),'set':{2,1,1,'c'},'dict':{'k1':1,'k2':2},1:111,'name':'Dwaraka'}"
   ]
  },
  {
   "cell_type": "code",
   "execution_count": 155,
   "id": "b0386b47",
   "metadata": {},
   "outputs": [
    {
     "data": {
      "text/plain": [
       "'Dwaraka'"
      ]
     },
     "execution_count": 155,
     "metadata": {},
     "output_type": "execute_result"
    }
   ],
   "source": [
    "d['name']"
   ]
  },
  {
   "cell_type": "code",
   "execution_count": 156,
   "id": "ac69e981",
   "metadata": {},
   "outputs": [
    {
     "data": {
      "text/plain": [
       "{'integer': 1,\n",
       " 'character': 'kk',\n",
       " 'list': [1, 2, 'akk'],\n",
       " 'tuple': (1, 1, 'd'),\n",
       " 'set': {1, 2, 'c'},\n",
       " 'dict': {'k1': 1, 'k2': 2},\n",
       " 1: 111,\n",
       " 'name': 'Dwaraka'}"
      ]
     },
     "execution_count": 156,
     "metadata": {},
     "output_type": "execute_result"
    }
   ],
   "source": [
    "d"
   ]
  },
  {
   "cell_type": "code",
   "execution_count": 157,
   "id": "c29bdd1e",
   "metadata": {},
   "outputs": [
    {
     "data": {
      "text/plain": [
       "{1, 2, 'c'}"
      ]
     },
     "execution_count": 157,
     "metadata": {},
     "output_type": "execute_result"
    }
   ],
   "source": [
    "d['set']"
   ]
  },
  {
   "cell_type": "code",
   "execution_count": 158,
   "id": "e72c449e",
   "metadata": {},
   "outputs": [
    {
     "data": {
      "text/plain": [
       "{'k1': 1, 'k2': 2}"
      ]
     },
     "execution_count": 158,
     "metadata": {},
     "output_type": "execute_result"
    }
   ],
   "source": [
    "d['dict']"
   ]
  },
  {
   "cell_type": "code",
   "execution_count": 159,
   "id": "cafe464c",
   "metadata": {},
   "outputs": [],
   "source": [
    "d['character'] = 'a'"
   ]
  },
  {
   "cell_type": "code",
   "execution_count": 160,
   "id": "92a993d1",
   "metadata": {},
   "outputs": [
    {
     "data": {
      "text/plain": [
       "{'integer': 1,\n",
       " 'character': 'a',\n",
       " 'list': [1, 2, 'akk'],\n",
       " 'tuple': (1, 1, 'd'),\n",
       " 'set': {1, 2, 'c'},\n",
       " 'dict': {'k1': 1, 'k2': 2},\n",
       " 1: 111,\n",
       " 'name': 'Dwaraka'}"
      ]
     },
     "execution_count": 160,
     "metadata": {},
     "output_type": "execute_result"
    }
   ],
   "source": [
    "d"
   ]
  },
  {
   "cell_type": "code",
   "execution_count": 161,
   "id": "1e993f2f",
   "metadata": {},
   "outputs": [
    {
     "data": {
      "text/plain": [
       "111"
      ]
     },
     "execution_count": 161,
     "metadata": {},
     "output_type": "execute_result"
    }
   ],
   "source": [
    "d[1]"
   ]
  },
  {
   "cell_type": "code",
   "execution_count": 162,
   "id": "728c0700",
   "metadata": {},
   "outputs": [
    {
     "data": {
      "text/plain": [
       "[1, 2, 'akk']"
      ]
     },
     "execution_count": 162,
     "metadata": {},
     "output_type": "execute_result"
    }
   ],
   "source": [
    "# Access the 2nd element in list key\n",
    "d['list']"
   ]
  },
  {
   "cell_type": "code",
   "execution_count": 163,
   "id": "22ceafcb",
   "metadata": {},
   "outputs": [
    {
     "data": {
      "text/plain": [
       "2"
      ]
     },
     "execution_count": 163,
     "metadata": {},
     "output_type": "execute_result"
    }
   ],
   "source": [
    "d['list'][1]"
   ]
  },
  {
   "cell_type": "code",
   "execution_count": 164,
   "id": "e3c54f25",
   "metadata": {},
   "outputs": [],
   "source": [
    "d1 = {1 : ['akk','bkk','ckk']}"
   ]
  },
  {
   "cell_type": "code",
   "execution_count": 165,
   "id": "be70bbc4",
   "metadata": {},
   "outputs": [],
   "source": [
    "d1 = {2 : ['akk','bkk','ckk']}"
   ]
  },
  {
   "cell_type": "code",
   "execution_count": 166,
   "id": "94a14fc4",
   "metadata": {},
   "outputs": [
    {
     "data": {
      "text/plain": [
       "['akk', 'bkk', 'ckk']"
      ]
     },
     "execution_count": 166,
     "metadata": {},
     "output_type": "execute_result"
    }
   ],
   "source": [
    "d1[2]"
   ]
  },
  {
   "cell_type": "code",
   "execution_count": 167,
   "id": "24d8577a",
   "metadata": {},
   "outputs": [],
   "source": [
    "d2 = {}"
   ]
  },
  {
   "cell_type": "code",
   "execution_count": 168,
   "id": "87828a26",
   "metadata": {},
   "outputs": [],
   "source": [
    "d3 = {1}"
   ]
  },
  {
   "cell_type": "code",
   "execution_count": 169,
   "id": "07ef2234",
   "metadata": {},
   "outputs": [
    {
     "data": {
      "text/plain": [
       "set"
      ]
     },
     "execution_count": 169,
     "metadata": {},
     "output_type": "execute_result"
    }
   ],
   "source": [
    "type(d3)"
   ]
  },
  {
   "cell_type": "code",
   "execution_count": 170,
   "id": "1050d0b1",
   "metadata": {},
   "outputs": [],
   "source": [
    "d = {'integer':1,'character':'kk','list':[1,2,'akk'],'tuple':(1,1,'d'),'set':{2,1,1,'c'},'dict':{'k1':1,'k2':2},1:111,'name':'Dwaraka','integer':1}"
   ]
  },
  {
   "cell_type": "code",
   "execution_count": 171,
   "id": "f94fa713",
   "metadata": {},
   "outputs": [
    {
     "data": {
      "text/plain": [
       "{'integer': 1,\n",
       " 'character': 'kk',\n",
       " 'list': [1, 2, 'akk'],\n",
       " 'tuple': (1, 1, 'd'),\n",
       " 'set': {1, 2, 'c'},\n",
       " 'dict': {'k1': 1, 'k2': 2},\n",
       " 1: 111,\n",
       " 'name': 'Dwaraka'}"
      ]
     },
     "execution_count": 171,
     "metadata": {},
     "output_type": "execute_result"
    }
   ],
   "source": [
    "d"
   ]
  },
  {
   "cell_type": "code",
   "execution_count": 172,
   "id": "961bd658",
   "metadata": {},
   "outputs": [],
   "source": [
    "d = {'integer':1,'character':'kk','list':[1,2,'akk'],'tuple':(1,1,'d'),'set':{2,1,1,'c'},'dict':{'k1':1,'k2':2},1:111,'name':'Dwaraka','integer':'k'}"
   ]
  },
  {
   "cell_type": "code",
   "execution_count": 173,
   "id": "18ed4968",
   "metadata": {},
   "outputs": [
    {
     "data": {
      "text/plain": [
       "'k'"
      ]
     },
     "execution_count": 173,
     "metadata": {},
     "output_type": "execute_result"
    }
   ],
   "source": [
    "d['integer']"
   ]
  },
  {
   "cell_type": "code",
   "execution_count": 174,
   "id": "0800a3d0",
   "metadata": {},
   "outputs": [
    {
     "data": {
      "text/plain": [
       "{'integer': 'k',\n",
       " 'character': 'kk',\n",
       " 'list': [1, 2, 'akk'],\n",
       " 'tuple': (1, 1, 'd'),\n",
       " 'set': {1, 2, 'c'},\n",
       " 'dict': {'k1': 1, 'k2': 2},\n",
       " 1: 111,\n",
       " 'name': 'Dwaraka'}"
      ]
     },
     "execution_count": 174,
     "metadata": {},
     "output_type": "execute_result"
    }
   ],
   "source": [
    "d"
   ]
  },
  {
   "cell_type": "code",
   "execution_count": 175,
   "id": "a1ba0320",
   "metadata": {},
   "outputs": [],
   "source": [
    "d = {'integer':1,'character':'kk','character2':'kk','list':[1,2,'akk'],'tuple':(1,1,'d'),'set':{2,1,1,'c'},'dict':{'k1':1,'k2':2},1:111,'name':'Dwaraka','integer':'k'}"
   ]
  },
  {
   "cell_type": "code",
   "execution_count": 176,
   "id": "28ab3aef",
   "metadata": {},
   "outputs": [
    {
     "data": {
      "text/plain": [
       "'kk'"
      ]
     },
     "execution_count": 176,
     "metadata": {},
     "output_type": "execute_result"
    }
   ],
   "source": [
    "d['character']"
   ]
  },
  {
   "cell_type": "code",
   "execution_count": 205,
   "id": "b7851c26",
   "metadata": {},
   "outputs": [],
   "source": [
    "d = {'name':'kk','mob_no':9448974842,'email':'akk.yahoo@gmail.com','key0':{'k1':1,'k2':2,1:2},'key1':[4,5,6,7],'key2':(3,4,5,6),'key3':{3,4,5,6,3,7,8,6}}"
   ]
  },
  {
   "cell_type": "code",
   "execution_count": 206,
   "id": "0dd129b3",
   "metadata": {},
   "outputs": [
    {
     "data": {
      "text/plain": [
       "9448974842"
      ]
     },
     "execution_count": 206,
     "metadata": {},
     "output_type": "execute_result"
    }
   ],
   "source": [
    "d['mob_no']"
   ]
  },
  {
   "cell_type": "code",
   "execution_count": 207,
   "id": "f5fbead6",
   "metadata": {},
   "outputs": [
    {
     "data": {
      "text/plain": [
       "7"
      ]
     },
     "execution_count": 207,
     "metadata": {},
     "output_type": "execute_result"
    }
   ],
   "source": [
    "d['key1'][3]"
   ]
  },
  {
   "cell_type": "code",
   "execution_count": 208,
   "id": "da60ef93",
   "metadata": {},
   "outputs": [
    {
     "data": {
      "text/plain": [
       "3"
      ]
     },
     "execution_count": 208,
     "metadata": {},
     "output_type": "execute_result"
    }
   ],
   "source": [
    "d['key2'][0]"
   ]
  },
  {
   "cell_type": "code",
   "execution_count": 209,
   "id": "96f995ec",
   "metadata": {},
   "outputs": [
    {
     "ename": "TypeError",
     "evalue": "'set' object is not subscriptable",
     "output_type": "error",
     "traceback": [
      "\u001b[1;31m---------------------------------------------------------------------------\u001b[0m",
      "\u001b[1;31mTypeError\u001b[0m                                 Traceback (most recent call last)",
      "Input \u001b[1;32mIn [209]\u001b[0m, in \u001b[0;36m<cell line: 1>\u001b[1;34m()\u001b[0m\n\u001b[1;32m----> 1\u001b[0m \u001b[43md\u001b[49m\u001b[43m[\u001b[49m\u001b[38;5;124;43m'\u001b[39;49m\u001b[38;5;124;43mkey3\u001b[39;49m\u001b[38;5;124;43m'\u001b[39;49m\u001b[43m]\u001b[49m\u001b[43m[\u001b[49m\u001b[38;5;241;43m0\u001b[39;49m\u001b[43m]\u001b[49m\n",
      "\u001b[1;31mTypeError\u001b[0m: 'set' object is not subscriptable"
     ]
    }
   ],
   "source": [
    "d['key3'][0]"
   ]
  },
  {
   "cell_type": "code",
   "execution_count": 210,
   "id": "36429664",
   "metadata": {},
   "outputs": [
    {
     "data": {
      "text/plain": [
       "{3, 4, 5, 6, 7, 8}"
      ]
     },
     "execution_count": 210,
     "metadata": {},
     "output_type": "execute_result"
    }
   ],
   "source": [
    "d['key3']"
   ]
  },
  {
   "cell_type": "code",
   "execution_count": 211,
   "id": "059a15ae",
   "metadata": {},
   "outputs": [
    {
     "data": {
      "text/plain": [
       "{'k1': 1, 'k2': 2, 1: 2}"
      ]
     },
     "execution_count": 211,
     "metadata": {},
     "output_type": "execute_result"
    }
   ],
   "source": [
    "d['key0']"
   ]
  },
  {
   "cell_type": "code",
   "execution_count": 212,
   "id": "016f7ee8",
   "metadata": {},
   "outputs": [
    {
     "data": {
      "text/plain": [
       "1"
      ]
     },
     "execution_count": 212,
     "metadata": {},
     "output_type": "execute_result"
    }
   ],
   "source": [
    "d['key0']['k1']"
   ]
  },
  {
   "cell_type": "code",
   "execution_count": 213,
   "id": "581a66e8",
   "metadata": {},
   "outputs": [
    {
     "data": {
      "text/plain": [
       "2"
      ]
     },
     "execution_count": 213,
     "metadata": {},
     "output_type": "execute_result"
    }
   ],
   "source": [
    "d['key0'][1]"
   ]
  },
  {
   "cell_type": "code",
   "execution_count": 214,
   "id": "cdea12bd",
   "metadata": {},
   "outputs": [
    {
     "data": {
      "text/plain": [
       "{'name': 'kk',\n",
       " 'mob_no': 9448974842,\n",
       " 'email': 'akk.yahoo@gmail.com',\n",
       " 'key0': {'k1': 1, 'k2': 2, 1: 2},\n",
       " 'key1': [4, 5, 6, 7],\n",
       " 'key2': (3, 4, 5, 6),\n",
       " 'key3': {3, 4, 5, 6, 7, 8}}"
      ]
     },
     "execution_count": 214,
     "metadata": {},
     "output_type": "execute_result"
    }
   ],
   "source": [
    "d"
   ]
  },
  {
   "cell_type": "code",
   "execution_count": 215,
   "id": "497e671d",
   "metadata": {},
   "outputs": [
    {
     "data": {
      "text/plain": [
       "dict"
      ]
     },
     "execution_count": 215,
     "metadata": {},
     "output_type": "execute_result"
    }
   ],
   "source": [
    "type(d['key0'])"
   ]
  },
  {
   "cell_type": "code",
   "execution_count": 216,
   "id": "1ad34151",
   "metadata": {},
   "outputs": [
    {
     "data": {
      "text/plain": [
       "list"
      ]
     },
     "execution_count": 216,
     "metadata": {},
     "output_type": "execute_result"
    }
   ],
   "source": [
    "type(d['key1'])"
   ]
  },
  {
   "cell_type": "code",
   "execution_count": 217,
   "id": "f98c4108",
   "metadata": {},
   "outputs": [
    {
     "data": {
      "text/plain": [
       "tuple"
      ]
     },
     "execution_count": 217,
     "metadata": {},
     "output_type": "execute_result"
    }
   ],
   "source": [
    "type(d['key2'])"
   ]
  },
  {
   "cell_type": "code",
   "execution_count": 218,
   "id": "dcb6f642",
   "metadata": {},
   "outputs": [
    {
     "data": {
      "text/plain": [
       "set"
      ]
     },
     "execution_count": 218,
     "metadata": {},
     "output_type": "execute_result"
    }
   ],
   "source": [
    "type(d['key3'])"
   ]
  },
  {
   "cell_type": "code",
   "execution_count": 219,
   "id": "068cdb07",
   "metadata": {},
   "outputs": [
    {
     "data": {
      "text/plain": [
       "dict"
      ]
     },
     "execution_count": 219,
     "metadata": {},
     "output_type": "execute_result"
    }
   ],
   "source": [
    "type(d)"
   ]
  },
  {
   "cell_type": "code",
   "execution_count": 220,
   "id": "329fd1be",
   "metadata": {},
   "outputs": [
    {
     "data": {
      "text/plain": [
       "str"
      ]
     },
     "execution_count": 220,
     "metadata": {},
     "output_type": "execute_result"
    }
   ],
   "source": [
    "type(d['name'])"
   ]
  },
  {
   "cell_type": "code",
   "execution_count": 221,
   "id": "30e46c01",
   "metadata": {},
   "outputs": [
    {
     "data": {
      "text/plain": [
       "int"
      ]
     },
     "execution_count": 221,
     "metadata": {},
     "output_type": "execute_result"
    }
   ],
   "source": [
    "type(d['mob_no'])"
   ]
  },
  {
   "cell_type": "code",
   "execution_count": 222,
   "id": "c84c3a5e",
   "metadata": {},
   "outputs": [
    {
     "data": {
      "text/plain": [
       "dict_keys(['name', 'mob_no', 'email', 'key0', 'key1', 'key2', 'key3'])"
      ]
     },
     "execution_count": 222,
     "metadata": {},
     "output_type": "execute_result"
    }
   ],
   "source": [
    "# Get list of all the keys\n",
    "d.keys()"
   ]
  },
  {
   "cell_type": "code",
   "execution_count": 223,
   "id": "3ed710ec",
   "metadata": {},
   "outputs": [
    {
     "data": {
      "text/plain": [
       "dict_items([('name', 'kk'), ('mob_no', 9448974842), ('email', 'akk.yahoo@gmail.com'), ('key0', {'k1': 1, 'k2': 2, 1: 2}), ('key1', [4, 5, 6, 7]), ('key2', (3, 4, 5, 6)), ('key3', {3, 4, 5, 6, 7, 8})])"
      ]
     },
     "execution_count": 223,
     "metadata": {},
     "output_type": "execute_result"
    }
   ],
   "source": [
    "# Get key value pairs in form of tuples\n",
    "d.items()"
   ]
  },
  {
   "cell_type": "code",
   "execution_count": 226,
   "id": "0209f28e",
   "metadata": {},
   "outputs": [
    {
     "data": {
      "text/plain": [
       "dict_values(['kk', 9448974842, 'akk.yahoo@gmail.com', {'k1': 1, 'k2': 2, 1: 2}, [4, 5, 6, 7], (3, 4, 5, 6), {3, 4, 5, 6, 7, 8}])"
      ]
     },
     "execution_count": 226,
     "metadata": {},
     "output_type": "execute_result"
    }
   ],
   "source": [
    "# Get only values\n",
    "d.values()"
   ]
  },
  {
   "cell_type": "code",
   "execution_count": 227,
   "id": "67dae0b1",
   "metadata": {},
   "outputs": [],
   "source": [
    "d = {'key1': 'kk', 'key2': 'akk'}"
   ]
  },
  {
   "cell_type": "code",
   "execution_count": 229,
   "id": "1506915f",
   "metadata": {},
   "outputs": [],
   "source": [
    "# Add a new value to the dictionary\n",
    "d['key3'] = 1"
   ]
  },
  {
   "cell_type": "code",
   "execution_count": 230,
   "id": "ee85501d",
   "metadata": {},
   "outputs": [
    {
     "data": {
      "text/plain": [
       "{'key1': 'kk', 'key2': 'akk', 'key3': 1}"
      ]
     },
     "execution_count": 230,
     "metadata": {},
     "output_type": "execute_result"
    }
   ],
   "source": [
    "d"
   ]
  },
  {
   "cell_type": "code",
   "execution_count": 231,
   "id": "58d3befc",
   "metadata": {},
   "outputs": [],
   "source": [
    "d['key1'] = 'kkk'"
   ]
  },
  {
   "cell_type": "code",
   "execution_count": 232,
   "id": "384aa344",
   "metadata": {},
   "outputs": [
    {
     "data": {
      "text/plain": [
       "{'key1': 'kkk', 'key2': 'akk', 'key3': 1}"
      ]
     },
     "execution_count": 232,
     "metadata": {},
     "output_type": "execute_result"
    }
   ],
   "source": [
    "d"
   ]
  },
  {
   "cell_type": "code",
   "execution_count": 234,
   "id": "dbe7d20f",
   "metadata": {},
   "outputs": [],
   "source": [
    "# Delete a key value pair\n",
    "del d['key1']"
   ]
  },
  {
   "cell_type": "code",
   "execution_count": 235,
   "id": "1068527f",
   "metadata": {},
   "outputs": [
    {
     "data": {
      "text/plain": [
       "{'key2': 'akk', 'key3': 1}"
      ]
     },
     "execution_count": 235,
     "metadata": {},
     "output_type": "execute_result"
    }
   ],
   "source": [
    "d"
   ]
  },
  {
   "cell_type": "code",
   "execution_count": 236,
   "id": "c5453db6",
   "metadata": {},
   "outputs": [],
   "source": [
    "# Delete entire dictionary\n",
    "del d"
   ]
  },
  {
   "cell_type": "code",
   "execution_count": 237,
   "id": "b223c963",
   "metadata": {},
   "outputs": [
    {
     "ename": "NameError",
     "evalue": "name 'd' is not defined",
     "output_type": "error",
     "traceback": [
      "\u001b[1;31m---------------------------------------------------------------------------\u001b[0m",
      "\u001b[1;31mNameError\u001b[0m                                 Traceback (most recent call last)",
      "Input \u001b[1;32mIn [237]\u001b[0m, in \u001b[0;36m<cell line: 1>\u001b[1;34m()\u001b[0m\n\u001b[1;32m----> 1\u001b[0m \u001b[43md\u001b[49m\n",
      "\u001b[1;31mNameError\u001b[0m: name 'd' is not defined"
     ]
    }
   ],
   "source": [
    "d"
   ]
  },
  {
   "cell_type": "code",
   "execution_count": 245,
   "id": "50f3905a",
   "metadata": {},
   "outputs": [],
   "source": [
    "d = {'key1': 'kk', 'key2': 'akk'}"
   ]
  },
  {
   "cell_type": "code",
   "execution_count": 246,
   "id": "227f1ad7",
   "metadata": {},
   "outputs": [],
   "source": [
    "d['list'] = [1,2,'kk']"
   ]
  },
  {
   "cell_type": "code",
   "execution_count": 247,
   "id": "cf1818b3",
   "metadata": {},
   "outputs": [
    {
     "data": {
      "text/plain": [
       "{'key1': 'kk', 'key2': 'akk', 'list': [1, 2, 'kk']}"
      ]
     },
     "execution_count": 247,
     "metadata": {},
     "output_type": "execute_result"
    }
   ],
   "source": [
    "d"
   ]
  },
  {
   "cell_type": "code",
   "execution_count": 248,
   "id": "b1be6eb7",
   "metadata": {},
   "outputs": [
    {
     "ename": "TypeError",
     "evalue": "unhashable type: 'list'",
     "output_type": "error",
     "traceback": [
      "\u001b[1;31m---------------------------------------------------------------------------\u001b[0m",
      "\u001b[1;31mTypeError\u001b[0m                                 Traceback (most recent call last)",
      "Input \u001b[1;32mIn [248]\u001b[0m, in \u001b[0;36m<cell line: 2>\u001b[1;34m()\u001b[0m\n\u001b[0;32m      1\u001b[0m \u001b[38;5;66;03m# Use list as a key\u001b[39;00m\n\u001b[1;32m----> 2\u001b[0m d[[\u001b[38;5;241m1\u001b[39m,\u001b[38;5;241m2\u001b[39m,\u001b[38;5;241m3\u001b[39m]] \u001b[38;5;241m=\u001b[39m \u001b[38;5;124m'\u001b[39m\u001b[38;5;124mkk\u001b[39m\u001b[38;5;124m'\u001b[39m\n",
      "\u001b[1;31mTypeError\u001b[0m: unhashable type: 'list'"
     ]
    }
   ],
   "source": [
    "# Use list as a key\n",
    "d[[1,2,3]] = 'kk'"
   ]
  },
  {
   "cell_type": "code",
   "execution_count": 250,
   "id": "4dea9675",
   "metadata": {},
   "outputs": [],
   "source": [
    "# Use tuple as a key\n",
    "d[(1,2,3)] = 'kk'"
   ]
  },
  {
   "cell_type": "code",
   "execution_count": 251,
   "id": "97a7e788",
   "metadata": {},
   "outputs": [
    {
     "data": {
      "text/plain": [
       "{'key1': 'kk', 'key2': 'akk', 'list': [1, 2, 'kk'], (1, 2, 3): 'kk'}"
      ]
     },
     "execution_count": 251,
     "metadata": {},
     "output_type": "execute_result"
    }
   ],
   "source": [
    "d"
   ]
  },
  {
   "cell_type": "code",
   "execution_count": 252,
   "id": "b8e73a63",
   "metadata": {},
   "outputs": [
    {
     "data": {
      "text/plain": [
       "'kk'"
      ]
     },
     "execution_count": 252,
     "metadata": {},
     "output_type": "execute_result"
    }
   ],
   "source": [
    "d[(1,2,3)]"
   ]
  },
  {
   "cell_type": "code",
   "execution_count": null,
   "id": "43e4319c",
   "metadata": {},
   "outputs": [],
   "source": [
    "# Key has to be an immutable element, hence tuple works"
   ]
  },
  {
   "cell_type": "code",
   "execution_count": 253,
   "id": "3c267db0",
   "metadata": {},
   "outputs": [
    {
     "ename": "TypeError",
     "evalue": "unhashable type: 'set'",
     "output_type": "error",
     "traceback": [
      "\u001b[1;31m---------------------------------------------------------------------------\u001b[0m",
      "\u001b[1;31mTypeError\u001b[0m                                 Traceback (most recent call last)",
      "Input \u001b[1;32mIn [253]\u001b[0m, in \u001b[0;36m<cell line: 2>\u001b[1;34m()\u001b[0m\n\u001b[0;32m      1\u001b[0m \u001b[38;5;66;03m# Use tuple as a key\u001b[39;00m\n\u001b[1;32m----> 2\u001b[0m d[{\u001b[38;5;241m1\u001b[39m,\u001b[38;5;241m2\u001b[39m,\u001b[38;5;241m3\u001b[39m}] \u001b[38;5;241m=\u001b[39m \u001b[38;5;124m'\u001b[39m\u001b[38;5;124mkk\u001b[39m\u001b[38;5;124m'\u001b[39m\n",
      "\u001b[1;31mTypeError\u001b[0m: unhashable type: 'set'"
     ]
    }
   ],
   "source": [
    "# Use set as a key\n",
    "d[{1,2,3}] = 'kk'"
   ]
  },
  {
   "cell_type": "code",
   "execution_count": 258,
   "id": "63ee3272",
   "metadata": {},
   "outputs": [],
   "source": [
    "l = [1,2,3]"
   ]
  },
  {
   "cell_type": "code",
   "execution_count": 259,
   "id": "54f87039",
   "metadata": {},
   "outputs": [],
   "source": [
    "del l[2]"
   ]
  },
  {
   "cell_type": "code",
   "execution_count": 260,
   "id": "e113a248",
   "metadata": {},
   "outputs": [
    {
     "data": {
      "text/plain": [
       "[1, 2]"
      ]
     },
     "execution_count": 260,
     "metadata": {},
     "output_type": "execute_result"
    }
   ],
   "source": [
    "l"
   ]
  },
  {
   "cell_type": "code",
   "execution_count": null,
   "id": "c13b9ee4",
   "metadata": {},
   "outputs": [],
   "source": [
    "# del function also works on list etc."
   ]
  },
  {
   "cell_type": "code",
   "execution_count": 262,
   "id": "17db1241",
   "metadata": {},
   "outputs": [],
   "source": [
    "d1 = {'key0':'kk','key1':9448974842}"
   ]
  },
  {
   "cell_type": "code",
   "execution_count": 263,
   "id": "2503ec3a",
   "metadata": {},
   "outputs": [],
   "source": [
    "d2 = {'key2':'akk','key3':9448974842}"
   ]
  },
  {
   "cell_type": "code",
   "execution_count": 264,
   "id": "a7805650",
   "metadata": {},
   "outputs": [
    {
     "ename": "TypeError",
     "evalue": "unsupported operand type(s) for +: 'dict' and 'dict'",
     "output_type": "error",
     "traceback": [
      "\u001b[1;31m---------------------------------------------------------------------------\u001b[0m",
      "\u001b[1;31mTypeError\u001b[0m                                 Traceback (most recent call last)",
      "Input \u001b[1;32mIn [264]\u001b[0m, in \u001b[0;36m<cell line: 1>\u001b[1;34m()\u001b[0m\n\u001b[1;32m----> 1\u001b[0m \u001b[43md1\u001b[49m\u001b[38;5;241;43m+\u001b[39;49m\u001b[43md2\u001b[49m\n",
      "\u001b[1;31mTypeError\u001b[0m: unsupported operand type(s) for +: 'dict' and 'dict'"
     ]
    }
   ],
   "source": [
    "d1+d2"
   ]
  },
  {
   "cell_type": "code",
   "execution_count": 266,
   "id": "fdeb9971",
   "metadata": {},
   "outputs": [],
   "source": [
    "d1.update(d2)"
   ]
  },
  {
   "cell_type": "code",
   "execution_count": 267,
   "id": "99a32900",
   "metadata": {},
   "outputs": [
    {
     "data": {
      "text/plain": [
       "{'key0': 'kk', 'key1': 9448974842, 'key2': 'akk', 'key3': 9448974842}"
      ]
     },
     "execution_count": 267,
     "metadata": {},
     "output_type": "execute_result"
    }
   ],
   "source": [
    "d1"
   ]
  },
  {
   "cell_type": "code",
   "execution_count": 268,
   "id": "419f1d8d",
   "metadata": {},
   "outputs": [
    {
     "data": {
      "text/plain": [
       "{'key2': 'akk', 'key3': 9448974842}"
      ]
     },
     "execution_count": 268,
     "metadata": {},
     "output_type": "execute_result"
    }
   ],
   "source": [
    "d2"
   ]
  },
  {
   "cell_type": "code",
   "execution_count": 269,
   "id": "9bad6f35",
   "metadata": {},
   "outputs": [],
   "source": [
    "d1.update({'key':'k'})"
   ]
  },
  {
   "cell_type": "code",
   "execution_count": 270,
   "id": "dac468e7",
   "metadata": {},
   "outputs": [
    {
     "data": {
      "text/plain": [
       "{'key0': 'kk',\n",
       " 'key1': 9448974842,\n",
       " 'key2': 'akk',\n",
       " 'key3': 9448974842,\n",
       " 'key': 'k'}"
      ]
     },
     "execution_count": 270,
     "metadata": {},
     "output_type": "execute_result"
    }
   ],
   "source": [
    "d1"
   ]
  },
  {
   "cell_type": "code",
   "execution_count": 271,
   "id": "c8678ddd",
   "metadata": {},
   "outputs": [
    {
     "data": {
      "text/plain": [
       "'k'"
      ]
     },
     "execution_count": 271,
     "metadata": {},
     "output_type": "execute_result"
    }
   ],
   "source": [
    "d1.get('key')"
   ]
  },
  {
   "cell_type": "code",
   "execution_count": 272,
   "id": "9ecd6a4a",
   "metadata": {},
   "outputs": [
    {
     "data": {
      "text/plain": [
       "'k'"
      ]
     },
     "execution_count": 272,
     "metadata": {},
     "output_type": "execute_result"
    }
   ],
   "source": [
    "d1['key']"
   ]
  },
  {
   "cell_type": "code",
   "execution_count": 285,
   "id": "8e196274",
   "metadata": {},
   "outputs": [],
   "source": [
    "key = ('name','mob','email')"
   ]
  },
  {
   "cell_type": "code",
   "execution_count": 286,
   "id": "f7e0735a",
   "metadata": {},
   "outputs": [],
   "source": [
    "value = ('kk',9448974842,'akk.yahoo@gmail.com')"
   ]
  },
  {
   "cell_type": "code",
   "execution_count": 287,
   "id": "85e9f6fd",
   "metadata": {},
   "outputs": [
    {
     "data": {
      "text/plain": [
       "{'key0': 'kk',\n",
       " 'key1': 9448974842,\n",
       " 'key2': 'akk',\n",
       " 'key3': 9448974842,\n",
       " 'key': 'k'}"
      ]
     },
     "execution_count": 287,
     "metadata": {},
     "output_type": "execute_result"
    }
   ],
   "source": [
    "d1"
   ]
  },
  {
   "cell_type": "code",
   "execution_count": 288,
   "id": "c6616de2",
   "metadata": {},
   "outputs": [],
   "source": [
    "d = d1.fromkeys(key,value)"
   ]
  },
  {
   "cell_type": "code",
   "execution_count": 290,
   "id": "988846be",
   "metadata": {},
   "outputs": [
    {
     "data": {
      "text/plain": [
       "{'name': ('kk', 9448974842, 'akk.yahoo@gmail.com'),\n",
       " 'mob': ('kk', 9448974842, 'akk.yahoo@gmail.com'),\n",
       " 'email': ('kk', 9448974842, 'akk.yahoo@gmail.com')}"
      ]
     },
     "execution_count": 290,
     "metadata": {},
     "output_type": "execute_result"
    }
   ],
   "source": [
    "d"
   ]
  },
  {
   "cell_type": "code",
   "execution_count": 291,
   "id": "79edeec5",
   "metadata": {},
   "outputs": [
    {
     "data": {
      "text/plain": [
       "{'key0': 'kk',\n",
       " 'key1': 9448974842,\n",
       " 'key2': 'akk',\n",
       " 'key3': 9448974842,\n",
       " 'key': 'k'}"
      ]
     },
     "execution_count": 291,
     "metadata": {},
     "output_type": "execute_result"
    }
   ],
   "source": [
    "d1"
   ]
  },
  {
   "cell_type": "code",
   "execution_count": 292,
   "id": "7f9b2c0e",
   "metadata": {},
   "outputs": [],
   "source": [
    "key = ('name','mob','email')"
   ]
  },
  {
   "cell_type": "code",
   "execution_count": 293,
   "id": "911399c9",
   "metadata": {},
   "outputs": [],
   "source": [
    "value = 'kk'"
   ]
  },
  {
   "cell_type": "code",
   "execution_count": 294,
   "id": "3659b1b5",
   "metadata": {},
   "outputs": [],
   "source": [
    "d = d1.fromkeys(key,value)"
   ]
  },
  {
   "cell_type": "code",
   "execution_count": 295,
   "id": "dcc4380a",
   "metadata": {},
   "outputs": [
    {
     "data": {
      "text/plain": [
       "{'name': 'kk', 'mob': 'kk', 'email': 'kk'}"
      ]
     },
     "execution_count": 295,
     "metadata": {},
     "output_type": "execute_result"
    }
   ],
   "source": [
    "d"
   ]
  },
  {
   "cell_type": "code",
   "execution_count": null,
   "id": "fd16b5eb",
   "metadata": {},
   "outputs": [],
   "source": [
    "d = d1."
   ]
  }
 ],
 "metadata": {
  "kernelspec": {
   "display_name": "Python 3 (ipykernel)",
   "language": "python",
   "name": "python3"
  },
  "language_info": {
   "codemirror_mode": {
    "name": "ipython",
    "version": 3
   },
   "file_extension": ".py",
   "mimetype": "text/x-python",
   "name": "python",
   "nbconvert_exporter": "python",
   "pygments_lexer": "ipython3",
   "version": "3.9.12"
  }
 },
 "nbformat": 4,
 "nbformat_minor": 5
}
