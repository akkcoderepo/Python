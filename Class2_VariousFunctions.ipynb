{
 "cells": [
  {
   "cell_type": "code",
   "execution_count": 120,
   "id": "19f4ca7d",
   "metadata": {},
   "outputs": [
    {
     "data": {
      "text/plain": [
       "'kumar*kumar*kumar*'"
      ]
     },
     "execution_count": 120,
     "metadata": {},
     "output_type": "execute_result"
    }
   ],
   "source": [
    "'kumar*' * 3"
   ]
  },
  {
   "cell_type": "code",
   "execution_count": 122,
   "id": "15de0660",
   "metadata": {},
   "outputs": [
    {
     "data": {
      "text/plain": [
       "'kumar akk'"
      ]
     },
     "execution_count": 122,
     "metadata": {},
     "output_type": "execute_result"
    }
   ],
   "source": [
    "'kumar' + ' akk'"
   ]
  },
  {
   "cell_type": "code",
   "execution_count": 124,
   "id": "b8e35b9e",
   "metadata": {},
   "outputs": [
    {
     "data": {
      "text/plain": [
       "'kumar 3'"
      ]
     },
     "execution_count": 124,
     "metadata": {},
     "output_type": "execute_result"
    }
   ],
   "source": [
    "'kumar ' + '3'"
   ]
  },
  {
   "cell_type": "code",
   "execution_count": 147,
   "id": "a6a20815",
   "metadata": {},
   "outputs": [
    {
     "name": "stdout",
     "output_type": "stream",
     "text": [
      "k\n",
      "kk\n",
      "kkk\n",
      "kkkk\n",
      "kkkkk\n",
      "kkkkkk\n",
      "kkkkkkk\n",
      "kkkkkkkk\n",
      "kkkkkkkkk\n",
      "kkkkkkkkkk\n"
     ]
    }
   ],
   "source": [
    "for i in range(1,11):\n",
    "    print('k'*i)"
   ]
  },
  {
   "cell_type": "code",
   "execution_count": 156,
   "id": "f65852c6",
   "metadata": {},
   "outputs": [
    {
     "name": "stdout",
     "output_type": "stream",
     "text": [
      "Length of name : 7\n"
     ]
    }
   ],
   "source": [
    "name = 'kumar  '\n",
    "print('Length of name : ' + str(len(name)))"
   ]
  },
  {
   "cell_type": "code",
   "execution_count": 25,
   "id": "20b3cb12",
   "metadata": {},
   "outputs": [
    {
     "name": "stdout",
     "output_type": "stream",
     "text": [
      "3\n",
      "-1\n",
      "-1\n",
      "2\n",
      "5\n",
      "-1\n",
      "True\n"
     ]
    }
   ],
   "source": [
    "name = 'kumara'\n",
    "print(name.find('a'))\n",
    "print(name.find('L'))\n",
    "print(name.find('maz'))\n",
    "print(name.find('mar'))\n",
    "print(name.find('a',4))\n",
    "print(name.find('A',4))\n",
    "print(name.isalnum())"
   ]
  },
  {
   "cell_type": "code",
   "execution_count": 33,
   "id": "17f233ca",
   "metadata": {},
   "outputs": [
    {
     "name": "stdout",
     "output_type": "stream",
     "text": [
      "2\n",
      "0\n",
      "2\n",
      "['kumara', 'simple', 'split']\n",
      "['kumara', 'simple', 'split']\n",
      "<class 'list'>\n"
     ]
    }
   ],
   "source": [
    "name = 'kumara simple split'\n",
    "print(name.count('a'))\n",
    "print(name.count('A'))\n",
    "print(name.count('m'))\n",
    "print(name.split(sep=' '))\n",
    "print(name.split())\n",
    "print(type(name.split()))"
   ]
  },
  {
   "cell_type": "code",
   "execution_count": 40,
   "id": "de4a3001",
   "metadata": {},
   "outputs": [
    {
     "name": "stdout",
     "output_type": "stream",
     "text": [
      "['kumara', 'simple', 'split']\n",
      "split\n",
      "['kumara', 'simple']\n",
      "[]\n",
      "['split']\n"
     ]
    }
   ],
   "source": [
    "name = 'kumara simple split'\n",
    "l = name.split()\n",
    "print(l)\n",
    "print(l[2])\n",
    "print(l[0:2])\n",
    "print(l[0:2:-1])\n",
    "print(l[-1::])"
   ]
  },
  {
   "cell_type": "code",
   "execution_count": 44,
   "id": "53a7af23",
   "metadata": {},
   "outputs": [
    {
     "name": "stdout",
     "output_type": "stream",
     "text": [
      "['ku', 'marna simpnal', ' splnai', 't']\n",
      "['kuemar', ' simp', 'le spl', 'iet']\n"
     ]
    }
   ],
   "source": [
    "name = 'kuemarna simpnale splnaiet'\n",
    "l = name.split('e')\n",
    "print(l)\n",
    "l = name.split('na')\n",
    "print(l)"
   ]
  },
  {
   "cell_type": "code",
   "execution_count": 52,
   "id": "89b9b10b",
   "metadata": {},
   "outputs": [
    {
     "name": "stdout",
     "output_type": "stream",
     "text": [
      "KUEMARNA SIMPNALE SPLNAIET\n",
      "kuemarna simpnale splnaiet\n",
      "KUEMARNA sIMPNALE SPLNAIEt\n",
      "Kuemarna Simpnale Splnaiet\n",
      "Kuemarna simpnale splnaiet\n"
     ]
    }
   ],
   "source": [
    "name = 'kuemarna Simpnale splnaieT'\n",
    "print(name.upper())\n",
    "print(name.lower())\n",
    "print(name.swapcase())\n",
    "print(name.title())\n",
    "print(name.capitalize())"
   ]
  },
  {
   "cell_type": "code",
   "execution_count": 2,
   "id": "2a4667a5",
   "metadata": {},
   "outputs": [
    {
     "name": "stdout",
     "output_type": "stream",
     "text": [
      "k*u*m*a*r\n",
      "k*+u*+m*+a*+r\n"
     ]
    },
    {
     "data": {
      "text/plain": [
       "'kkranthiukranthimkranthiakranthir'"
      ]
     },
     "execution_count": 2,
     "metadata": {},
     "output_type": "execute_result"
    }
   ],
   "source": [
    "fname = 'kranthi'\n",
    "lname = 'kumar'\n",
    "print('*'.join(lname))\n",
    "print('*+'.join(lname))\n",
    "fname.join(lname)"
   ]
  },
  {
   "cell_type": "code",
   "execution_count": 8,
   "id": "695f4d0f",
   "metadata": {},
   "outputs": [
    {
     "ename": "TypeError",
     "evalue": "'int' object is not reversible",
     "output_type": "error",
     "traceback": [
      "\u001b[1;31m---------------------------------------------------------------------------\u001b[0m",
      "\u001b[1;31mTypeError\u001b[0m                                 Traceback (most recent call last)",
      "Input \u001b[1;32mIn [8]\u001b[0m, in \u001b[0;36m<cell line: 4>\u001b[1;34m()\u001b[0m\n\u001b[0;32m      2\u001b[0m \u001b[38;5;28mreversed\u001b[39m(name)\n\u001b[0;32m      3\u001b[0m num \u001b[38;5;241m=\u001b[39m \u001b[38;5;241m123\u001b[39m\n\u001b[1;32m----> 4\u001b[0m \u001b[38;5;28;43mreversed\u001b[39;49m\u001b[43m(\u001b[49m\u001b[43mnum\u001b[49m\u001b[43m)\u001b[49m\n",
      "\u001b[1;31mTypeError\u001b[0m: 'int' object is not reversible"
     ]
    }
   ],
   "source": [
    "name = 'kumar'\n",
    "reversed(name)"
   ]
  },
  {
   "cell_type": "code",
   "execution_count": 6,
   "id": "60d0a475",
   "metadata": {},
   "outputs": [
    {
     "name": "stdout",
     "output_type": "stream",
     "text": [
      "r\n",
      "a\n",
      "m\n",
      "u\n",
      "k\n"
     ]
    }
   ],
   "source": [
    "for i in reversed(name):\n",
    "    print(i)"
   ]
  },
  {
   "cell_type": "code",
   "execution_count": 7,
   "id": "694051dc",
   "metadata": {},
   "outputs": [
    {
     "data": {
      "text/plain": [
       "'ramuk'"
      ]
     },
     "execution_count": 7,
     "metadata": {},
     "output_type": "execute_result"
    }
   ],
   "source": [
    "name[::-1]"
   ]
  },
  {
   "cell_type": "code",
   "execution_count": 21,
   "id": "f55420b5",
   "metadata": {},
   "outputs": [
    {
     "data": {
      "text/plain": [
       "'kumar '"
      ]
     },
     "execution_count": 21,
     "metadata": {},
     "output_type": "execute_result"
    }
   ],
   "source": [
    "name = 'kumar '\n",
    "name"
   ]
  },
  {
   "cell_type": "code",
   "execution_count": 22,
   "id": "73859107",
   "metadata": {},
   "outputs": [
    {
     "data": {
      "text/plain": [
       "'kumar'"
      ]
     },
     "execution_count": 22,
     "metadata": {},
     "output_type": "execute_result"
    }
   ],
   "source": [
    "name = 'kumar '\n",
    "name.rstrip()"
   ]
  },
  {
   "cell_type": "code",
   "execution_count": 28,
   "id": "0cf74b0f",
   "metadata": {},
   "outputs": [
    {
     "data": {
      "text/plain": [
       "'kumar'"
      ]
     },
     "execution_count": 28,
     "metadata": {},
     "output_type": "execute_result"
    }
   ],
   "source": [
    "name.strip('m')"
   ]
  },
  {
   "cell_type": "code",
   "execution_count": 30,
   "id": "226ec136",
   "metadata": {},
   "outputs": [
    {
     "data": {
      "text/plain": [
       "'kuma'"
      ]
     },
     "execution_count": 30,
     "metadata": {},
     "output_type": "execute_result"
    }
   ],
   "source": [
    "name.strip('r')"
   ]
  },
  {
   "cell_type": "code",
   "execution_count": 17,
   "id": "a3b89816",
   "metadata": {},
   "outputs": [
    {
     "data": {
      "text/plain": [
       "'kxyzmar'"
      ]
     },
     "execution_count": 17,
     "metadata": {},
     "output_type": "execute_result"
    }
   ],
   "source": [
    "name = 'kumar'\n",
    "name.replace('u','xyz')"
   ]
  },
  {
   "cell_type": "code",
   "execution_count": 18,
   "id": "934d6a7f",
   "metadata": {},
   "outputs": [
    {
     "data": {
      "text/plain": [
       "'kmar'"
      ]
     },
     "execution_count": 18,
     "metadata": {},
     "output_type": "execute_result"
    }
   ],
   "source": [
    "name.replace('u','')"
   ]
  },
  {
   "cell_type": "code",
   "execution_count": 23,
   "id": "4d2efb9d",
   "metadata": {},
   "outputs": [
    {
     "data": {
      "text/plain": [
       "'kranthi kumar   akula'"
      ]
     },
     "execution_count": 23,
     "metadata": {},
     "output_type": "execute_result"
    }
   ],
   "source": [
    "name = 'kranthi\\tkumar\\takula'\n",
    "name.expandtabs()"
   ]
  },
  {
   "cell_type": "code",
   "execution_count": 24,
   "id": "c3c1cefa",
   "metadata": {},
   "outputs": [
    {
     "data": {
      "text/plain": [
       "'*******kumar********'"
      ]
     },
     "execution_count": 24,
     "metadata": {},
     "output_type": "execute_result"
    }
   ],
   "source": [
    "name = 'kumar'\n",
    "name.center(20,'*')"
   ]
  },
  {
   "cell_type": "code",
   "execution_count": 31,
   "id": "0c2e4a87",
   "metadata": {},
   "outputs": [
    {
     "data": {
      "text/plain": [
       "False"
      ]
     },
     "execution_count": 31,
     "metadata": {},
     "output_type": "execute_result"
    }
   ],
   "source": [
    "name.isupper()"
   ]
  },
  {
   "cell_type": "code",
   "execution_count": 32,
   "id": "dc26ceda",
   "metadata": {},
   "outputs": [
    {
     "data": {
      "text/plain": [
       "True"
      ]
     },
     "execution_count": 32,
     "metadata": {},
     "output_type": "execute_result"
    }
   ],
   "source": [
    "name.islower()"
   ]
  },
  {
   "cell_type": "code",
   "execution_count": 33,
   "id": "2d271ee0",
   "metadata": {},
   "outputs": [
    {
     "data": {
      "text/plain": [
       "False"
      ]
     },
     "execution_count": 33,
     "metadata": {},
     "output_type": "execute_result"
    }
   ],
   "source": [
    "name = 'Kumar'\n",
    "name.islower()"
   ]
  },
  {
   "cell_type": "code",
   "execution_count": 34,
   "id": "658ed99e",
   "metadata": {},
   "outputs": [
    {
     "data": {
      "text/plain": [
       "False"
      ]
     },
     "execution_count": 34,
     "metadata": {},
     "output_type": "execute_result"
    }
   ],
   "source": [
    "name.isupper()"
   ]
  },
  {
   "cell_type": "code",
   "execution_count": 35,
   "id": "e6c6b6bc",
   "metadata": {},
   "outputs": [
    {
     "data": {
      "text/plain": [
       "False"
      ]
     },
     "execution_count": 35,
     "metadata": {},
     "output_type": "execute_result"
    }
   ],
   "source": [
    "name = 'kranthi kumar'\n",
    "name.isspace()"
   ]
  },
  {
   "cell_type": "code",
   "execution_count": 36,
   "id": "e122d144",
   "metadata": {},
   "outputs": [
    {
     "data": {
      "text/plain": [
       "True"
      ]
     },
     "execution_count": 36,
     "metadata": {},
     "output_type": "execute_result"
    }
   ],
   "source": [
    "name = '  '\n",
    "name.isspace()"
   ]
  },
  {
   "cell_type": "code",
   "execution_count": 38,
   "id": "fee9f44e",
   "metadata": {},
   "outputs": [
    {
     "data": {
      "text/plain": [
       "False"
      ]
     },
     "execution_count": 38,
     "metadata": {},
     "output_type": "execute_result"
    }
   ],
   "source": [
    "name = 'kk11'\n",
    "name.isdigit()"
   ]
  },
  {
   "cell_type": "code",
   "execution_count": 39,
   "id": "5beefba4",
   "metadata": {},
   "outputs": [
    {
     "data": {
      "text/plain": [
       "True"
      ]
     },
     "execution_count": 39,
     "metadata": {},
     "output_type": "execute_result"
    }
   ],
   "source": [
    "name = '111'\n",
    "name.isdigit()"
   ]
  },
  {
   "cell_type": "code",
   "execution_count": 40,
   "id": "5621b920",
   "metadata": {},
   "outputs": [
    {
     "data": {
      "text/plain": [
       "True"
      ]
     },
     "execution_count": 40,
     "metadata": {},
     "output_type": "execute_result"
    }
   ],
   "source": [
    "name = 'kumar'\n",
    "name.endswith('r')"
   ]
  },
  {
   "cell_type": "code",
   "execution_count": 41,
   "id": "06c8a3d9",
   "metadata": {},
   "outputs": [
    {
     "data": {
      "text/plain": [
       "False"
      ]
     },
     "execution_count": 41,
     "metadata": {},
     "output_type": "execute_result"
    }
   ],
   "source": [
    "name.endswith('a')"
   ]
  },
  {
   "cell_type": "code",
   "execution_count": 42,
   "id": "840c43ef",
   "metadata": {},
   "outputs": [
    {
     "data": {
      "text/plain": [
       "True"
      ]
     },
     "execution_count": 42,
     "metadata": {},
     "output_type": "execute_result"
    }
   ],
   "source": [
    "name.startswith('k')"
   ]
  },
  {
   "cell_type": "code",
   "execution_count": 43,
   "id": "1128e4f3",
   "metadata": {},
   "outputs": [
    {
     "data": {
      "text/plain": [
       "False"
      ]
     },
     "execution_count": 43,
     "metadata": {},
     "output_type": "execute_result"
    }
   ],
   "source": [
    "name.istitle()"
   ]
  },
  {
   "cell_type": "code",
   "execution_count": 44,
   "id": "c05a3a9e",
   "metadata": {},
   "outputs": [
    {
     "data": {
      "text/plain": [
       "True"
      ]
     },
     "execution_count": 44,
     "metadata": {},
     "output_type": "execute_result"
    }
   ],
   "source": [
    "name = 'Kumar'\n",
    "name.istitle()"
   ]
  },
  {
   "cell_type": "code",
   "execution_count": 45,
   "id": "5a09e43b",
   "metadata": {},
   "outputs": [
    {
     "data": {
      "text/plain": [
       "b'Kumar'"
      ]
     },
     "execution_count": 45,
     "metadata": {},
     "output_type": "execute_result"
    }
   ],
   "source": [
    "name.encode()"
   ]
  }
 ],
 "metadata": {
  "kernelspec": {
   "display_name": "Python 3 (ipykernel)",
   "language": "python",
   "name": "python3"
  },
  "language_info": {
   "codemirror_mode": {
    "name": "ipython",
    "version": 3
   },
   "file_extension": ".py",
   "mimetype": "text/x-python",
   "name": "python",
   "nbconvert_exporter": "python",
   "pygments_lexer": "ipython3",
   "version": "3.9.12"
  }
 },
 "nbformat": 4,
 "nbformat_minor": 5
}
