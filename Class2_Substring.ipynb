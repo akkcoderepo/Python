{
 "cells": [
  {
   "cell_type": "code",
   "execution_count": null,
   "id": "c63d0349",
   "metadata": {},
   "outputs": [],
   "source": [
    "#Substring\n",
    "#Variable_Name[index_Start : index_end_Excluding_End_Position : jump_Size]"
   ]
  },
  {
   "cell_type": "code",
   "execution_count": null,
   "id": "225c9a9f",
   "metadata": {},
   "outputs": [],
   "source": [
    "0    1   2   3   4   5   6   7   8\n",
    "H    y   d   e   r   a   b   a   d\n",
    "-9  -8  -7  -6  -5  -4  -3  -2  -1"
   ]
  },
  {
   "cell_type": "code",
   "execution_count": 1,
   "id": "975f6bfa",
   "metadata": {},
   "outputs": [
    {
     "name": "stdout",
     "output_type": "stream",
     "text": [
      "Value in 0th index : H\n",
      "Value in 1st index : y\n",
      "Value in reverse 1st index : d\n",
      "Value in reverse 9th index : H\n",
      "Value from 1st index to 1st index : y\n",
      "Value from 1st index to 0th index : \n",
      "Value from 0th index to 4th index : Hyder\n",
      "Value from 0th index to 10th index : Hyderabad\n",
      "Value from 6th index to 10th index : abad\n",
      "Value from start to end, jump by default 1 - all by default : Hyderabad\n",
      "Value from start to end, by default, jump by 2 : Hdrbd\n",
      "Value from 1st index to 6th index, jump by 2 : yea\n",
      "Length of name variable 9\n",
      "Value from 0th index to 8th index, jump by 1 : Hyderabad\n",
      "Value from 0th index to 8th index, jump by 2 : Hdrbd\n",
      "Value from reverse 1st index till 8th index, jump by -1 : \n",
      "Value from 0th index till reverse 8th index, jump by -1 : \n",
      "Length of name variable * - 1 : -9\n",
      "Value from reverse 1st index to reverse 9th index, jump by -1 : dabaredyH\n",
      "Value from reverse 1st index to reverse 9th index, jump by -2 : dbrdH\n",
      "\n",
      "H\n",
      "Hy\n",
      "Hyd\n",
      "Hyde\n",
      "Hyder\n",
      "Hydera\n",
      "Hyderab\n",
      "Hyderaba\n",
      "Hyderabad\n"
     ]
    }
   ],
   "source": [
    "name = 'Hyderabad'\n",
    "print('Value in 0th index : ' + name[0])\n",
    "print('Value in 1st index : ' + name[1])\n",
    "print('Value in reverse 1st index : ' + name[-1])\n",
    "print('Value in reverse 9th index : ' + name[-9])\n",
    "print('Value from 1st index to 1st index : ' + name[1:2])\n",
    "print('Value from 1st index to 0th index : '+ name[1:1])\n",
    "print('Value from 0th index to 4th index : ' + name[0:5])\n",
    "print('Value from 0th index to 10th index : ' + name[0:11])\n",
    "print('Value from 6th index to 10th index : ' + name[5:11])\n",
    "print('Value from start to end, jump by default 1 - all by default : ' + name[::])\n",
    "print('Value from start to end, by default, jump by 2 : ' + name[::2])\n",
    "print('Value from 1st index to 6th index, jump by 2 : ' + name[1:7:2])\n",
    "print('Length of name variable ' + str(len(name)))\n",
    "print('Value from 0th index to 8th index, jump by 1 : ' + name[0:len(name):1])\n",
    "print('Value from 0th index to 8th index, jump by 2 : ' + name[0:len(name):2])\n",
    "len_of_name = len(name) + 1\n",
    "for i in range(0,len_of_name):\n",
    "    print(name[0:i])"
   ]
  },
  {
   "cell_type": "code",
   "execution_count": 29,
   "id": "57e7c542",
   "metadata": {},
   "outputs": [
    {
     "name": "stdout",
     "output_type": "stream",
     "text": [
      "Value from reverse 1st index till 8th index, jump by -1 : \n",
      "Value from 0th index till reverse 8th index, jump by -1 : \n",
      "Length of name variable * - 1 : -9\n",
      "Value from reverse 1st index to reverse 9th index, jump by -1 : dabaredyH\n",
      "Value from reverse 1st index to reverse 9th index, jump by -2 : dbrdH\n",
      "Value in different format : Hyderabad\n",
      "Value in different format : dab\n",
      "Value in different format : dabaredyH\n",
      "Value in different format : \n",
      "Value in different format : d\n",
      "Value in different format : d\n",
      "Value in different format : d\n"
     ]
    }
   ],
   "source": [
    "print('Value from reverse 1st index till 8th index, jump by -1 : ' + name[-1:len(name):-1])\n",
    "print('Value from 0th index till reverse 8th index, jump by -1 : ' + name[0:-9:-1])\n",
    "print('Length of name variable * - 1 : ' + str(len(name)*-1))\n",
    "print('Value from reverse 1st index to reverse 9th index, jump by -1 : ' + name[-1:-10:-1])\n",
    "print('Value from reverse 1st index to reverse 9th index, jump by -2 : ' + name[-1:(len(name)+1)*-1:-2])\n",
    "print('Value in different format : ' + name[0:100:1])\n",
    "print('Value in different format : ' + name[-1:-4:-1])\n",
    "print('Value in different format : ' + name[-1:-111:-1])\n",
    "print('Value in different format : ' + name[-1:-111])\n",
    "print('Value in different format : ' + name[-1])\n",
    "print('Value in different format : ' + name[-1::])\n",
    "print('Value in different format : ' + name[-1::1])"
   ]
  },
  {
   "cell_type": "code",
   "execution_count": 45,
   "id": "ca85586b",
   "metadata": {},
   "outputs": [
    {
     "name": "stdout",
     "output_type": "stream",
     "text": [
      "Value in different format : dabaredyH\n",
      "Value in different format : dabared\n",
      "Value in different format : \n",
      "Value in different format : d\n",
      "Value in different format : \n",
      "Value in different format : \n",
      "Value in different format : \n",
      "Value in different format : Hyderab\n",
      "Value in different format : dabaredyH\n",
      "Value in different format : dabaredyH\n",
      "Value in different format : H\n",
      "Value in different format : Hyderabad\n",
      "Value in different format : yH\n",
      "Value in different format : yderabad\n",
      "Value in different format : \n",
      "Value in different format : \n"
     ]
    }
   ],
   "source": [
    "name = 'Hyderabad'\n",
    "print('Value in different format : ' + name[-1::-1])\n",
    "print('Value in different format : ' + name[-1:1:-1])\n",
    "print('Value in different format : ' + name[0:100:-1])\n",
    "print('Value in different format : ' + name[-1:-2:-1])\n",
    "print('Value in different format : ' + name[-1:-2:1])\n",
    "print('Value in different format : ' + name[-1:-2:])\n",
    "print('Value in different format : ' + name[-1:-2])\n",
    "print('Value in different format : ' + name[0:-2])\n",
    "print('Value in different format : ' + name[-1:-10:-1])\n",
    "print('Value in different format : ' + name[-1::-1])\n",
    "print('Value in different format : ' + name[0::-1])\n",
    "print('Value in different format : ' + name[0::1])\n",
    "print('Value in different format : ' + name[1::-1])\n",
    "print('Value in different format : ' + name[-1::1])\n",
    "print('Value in different format : ' + name[1::-1])\n",
    "print('Value in different format : ' + name[1::1])\n",
    "print('Value in different format : ' + name[-1:-4])\n",
    "print('Value in different format : ' + name[-1:4])"
   ]
  },
  {
   "cell_type": "code",
   "execution_count": 23,
   "id": "01a67808",
   "metadata": {},
   "outputs": [
    {
     "name": "stdout",
     "output_type": "stream",
     "text": [
      "name[0:300:-1]  : \n",
      "name[0::-1]  : H\n",
      "name[0::1]  : Hyderabad\n",
      "name[1:300:-1]  : \n",
      "name[1::-1]  : yH\n",
      "name[1::-1]  : dyH\n",
      "name[1::1]  : yderabad\n",
      "name[1::-1]  : \n",
      "name[1::-1]  : \n",
      "name[1::-1]  : \n",
      "name[1::-1]  : daba\n",
      "name[1::-1]  : dab\n",
      "------------------\n",
      "name[1::1]  : Hyderabad\n",
      "name[1::-1]  : Hyder\n"
     ]
    }
   ],
   "source": [
    "name = 'Hyderabad'\n",
    "print('name[0:300:-1]  : ' + name[0:300:-1])\n",
    "print('name[0::-1]  : ' + name[0::-1])\n",
    "print('name[0::1]  : ' + name[0::1])\n",
    "print('name[1:300:-1]  : ' + name[1:300:-1])\n",
    "print('name[1::-1]  : ' + name[1::-1])\n",
    "print('name[1::-1]  : ' + name[2::-1])"
   ]
  },
  {
   "cell_type": "code",
   "execution_count": 2,
   "id": "d016376c",
   "metadata": {},
   "outputs": [],
   "source": [
    "# Start and increment should be either +ve or -ve. Otherwise output is null. Exception is start is given as 0, as 0 is \n",
    "# neither +ve nor -ve.\n",
    "\n",
    "# The end_index depends on the direction we tell, if we give +ve then it considers till last position, if -ve, then it considers 0th index.\n",
    "# Since 0 is neither negative nor positive, step size does not matter, hence it works for [0::-1]  and [0::1]"
   ]
  },
  {
   "cell_type": "raw",
   "id": "9764fb4d",
   "metadata": {},
   "source": [
    "0    1   2   3   4   5   6   7   8\n",
    "H    y   d   e   r   a   b   x   d\n",
    "-9  -8  -7  -6  -5  -4  -3  -2  -1"
   ]
  },
  {
   "cell_type": "code",
   "execution_count": 78,
   "id": "3e36b338",
   "metadata": {},
   "outputs": [
    {
     "name": "stdout",
     "output_type": "stream",
     "text": [
      "Value in variable name : Hyderabxd\n",
      "name[1::1]  : yderabxd\n",
      "name[0::1]  : Hyderabxd\n",
      "name[0:4]  : Hyde\n",
      "name[0:-4]  : Hyder\n",
      "name[0:-4:1]  : Hyder\n",
      "name[-1:-4:-1]  : dxb\n",
      "----------------\n",
      "name[-1:-4:1]  : \n",
      "name[-1:-4:1]  : \n",
      "name[-1:-4:1]  : \n",
      "name[-1:-4:1]  : \n",
      "----------------\n",
      "name[-4:-2]  : ab\n",
      "name[-4:-3]  : a\n",
      "name[-4:-1]  : abx\n",
      "name[-1:-3]  : \n",
      "name[-3:-2]  : b\n",
      "name[-3:-3]  : \n",
      "name[-1:-4:]  : \n",
      "name[-1:-4:1]  : \n",
      "name[-1:4:-1]  : dxba\n",
      "name[-1:-4:-1]  : dxb\n",
      "name[0:-4]  : Hyder\n",
      "name[-1:-4:]  : \n",
      "name[-1:-4:1]  : \n"
     ]
    }
   ],
   "source": [
    "name = 'Hyderabxd'\n",
    "print('Value in variable name : ' + name)\n",
    "print('name[1::1]  : ' + name[1::1])\n",
    "print('name[0::1]  : ' + name[0::1])\n",
    "print('name[0:4]  : ' + name[0:4])\n",
    "print('name[0:-4]  : ' + name[0:-4])\n",
    "print('name[0:-4:1]  : ' + name[0:-4:1])\n",
    "print('name[-1:-4:-1]  : ' + name[-1:-4:-1])\n",
    "print('----------------')\n",
    "print('name[-1:-4:1]  : ' + name[-1:-4])\n",
    "print('name[-1:-4:1]  : ' + name[-1:-4:1])\n",
    "print('name[-1:-4:1]  : ' + name[-2:-4])\n",
    "print('name[-1:-4:1]  : ' + name[-2:-4:1])\n",
    "print('----------------')\n",
    "print('name[-4:-2]  : ' + name[-4:-2])\n",
    "print('name[-4:-3]  : ' + name[-4:-3])\n",
    "print('name[-4:-1]  : ' + name[-4:-1])\n",
    "print('name[-1:-3]  : ' + name[-1:-3])\n",
    "print('name[-3:-2]  : ' + name[-3:-2])\n",
    "print('name[-3:-3]  : ' + name[-3:-3])\n",
    "print('name[-1:-4:]  : ' + name[-1:-4:])\n",
    "print('name[-1:-4:1]  : ' + name[-1:-4:1])\n",
    "print('name[-1:4:-1]  : ' + name[-1:4:-1])\n",
    "print('name[-1:-4:-1]  : ' + name[-1:-4:-1])\n",
    "print('name[0:-4]  : ' + name[0:-4])\n",
    "print('name[-1:-4:]  : ' + name[-1:-4:])\n",
    "print('name[-1:-4:1]  : ' + name[-1:-4:1])"
   ]
  },
  {
   "cell_type": "code",
   "execution_count": 104,
   "id": "5b0c0f04",
   "metadata": {},
   "outputs": [
    {
     "name": "stdout",
     "output_type": "stream",
     "text": [
      "ram\n",
      "\n",
      "k\n",
      "kumar\n",
      "ramuk\n",
      "uk\n",
      "ramuk\n",
      "kumar\n",
      "ar\n",
      "kumar\n",
      "kumar\n",
      "ramuk\n",
      "uk\n",
      "muk\n",
      "ramuk\n",
      "r\n",
      "mu\n",
      "\n",
      "\n",
      "kumar\n",
      "\n",
      "amuk\n",
      "\n",
      "ykk\n",
      "ohaykkar\n"
     ]
    }
   ],
   "source": [
    "name = 'kumar'\n",
    "print(name[-1:-4:-1])\n",
    "print(name[-1:-4])\n",
    "print(name[0:-10:-1])\n",
    "# Since we are starting from 0 and again can't go back to last digit, hence only k\n",
    "print(name[::])\n",
    "print(name[-1::-1])\n",
    "print(name[1::-1])\n",
    "print(name[::-1])\n",
    "print(name[:8])\n",
    "print(name[-2:])\n",
    "#-2=a, no end point given, increment by 1 so -2+1 = -1, so -1=r, then increment again by -1 so 1+1 = 0, \n",
    "# again has to go full cycle, hence stops\n",
    "\n",
    "# Start position - by default i.e. if not given and if increment is given, it takes according to the increment type\n",
    "# Ex: [::1], takes start position as 0 and end position as length of string\n",
    "# Ex: [::-1] takes start position as -1 and end position as 0\n",
    "print(name[::])\n",
    "print(name[::1])\n",
    "print(name[::-1])\n",
    "# Start position is either incremented or decremented by the increment type\n",
    "# Ex:If start position is 1 and increment is -1, then the next value will be from 1-1=0 i.e. 0th index\n",
    "# Ex:If start position is 2 and increment is -1, then the next value will be from 2-1=1 i.e. 1st index\n",
    "# Ex:If start position is -1 and increment is -1, then the next value will be from -1-1=-2 i.e. -2nd index\n",
    "# Ex:If start position is -1 and increment is 1, then the next value will be from -1+1=0 i.e. 0th index\n",
    "print(name[1::-1])\n",
    "# uk\n",
    "print(name[2::-1])\n",
    "# muk\n",
    "print(name[-1::-1])\n",
    "# rumak\n",
    "print(name[-1::1])\n",
    "# r\n",
    "# End value is taken based on the increment type, if positive is given, then default end value will be 0, else -1\n",
    "print(name[-3:0:-1])\n",
    "# mu\n",
    "print(name[-3:0:1])\n",
    "# null\n",
    "print(name[-3:1:1])\n",
    "# null\n",
    "# If end value and increment are not in same direction, then output is null\n",
    "name = 'kumar'\n",
    "print(name[-5:5])\n",
    "print(name[-5:5:-1])\n",
    "print(name[-2:-10:-1])\n",
    "name = 'kumarakkyahoo'\n",
    "print(name[-5:5])\n",
    "print(name[-5:5:-1])\n",
    "print(name[-2:-10:-1])"
   ]
  }
 ],
 "metadata": {
  "kernelspec": {
   "display_name": "Python 3 (ipykernel)",
   "language": "python",
   "name": "python3"
  },
  "language_info": {
   "codemirror_mode": {
    "name": "ipython",
    "version": 3
   },
   "file_extension": ".py",
   "mimetype": "text/x-python",
   "name": "python",
   "nbconvert_exporter": "python",
   "pygments_lexer": "ipython3",
   "version": "3.9.12"
  }
 },
 "nbformat": 4,
 "nbformat_minor": 5
}
